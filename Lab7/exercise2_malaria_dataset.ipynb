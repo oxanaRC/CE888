{
  "nbformat": 4,
  "nbformat_minor": 0,
  "metadata": {
    "colab": {
      "name": "exercise2_malaria_dataset.ipynb",
      "provenance": [],
      "collapsed_sections": [],
      "toc_visible": true,
      "authorship_tag": "ABX9TyPyKX6zdSzY1Xjx+mZaV5LU",
      "include_colab_link": true
    },
    "kernelspec": {
      "name": "python3",
      "display_name": "Python 3"
    },
    "accelerator": "GPU"
  },
  "cells": [
    {
      "cell_type": "markdown",
      "metadata": {
        "id": "view-in-github",
        "colab_type": "text"
      },
      "source": [
        "<a href=\"https://colab.research.google.com/github/oxanaRC/CE888/blob/master/Lab7/exercise2_malaria_dataset.ipynb\" target=\"_parent\"><img src=\"https://colab.research.google.com/assets/colab-badge.svg\" alt=\"Open In Colab\"/></a>"
      ]
    },
    {
      "cell_type": "code",
      "metadata": {
        "id": "dEX5fHOzQdI4",
        "colab_type": "code",
        "outputId": "eb5ec7d1-6269-4566-8dcf-90f6a2606442",
        "colab": {
          "base_uri": "https://localhost:8080/",
          "height": 68
        }
      },
      "source": [
        "import os\n",
        "os.environ['KAGGLE_USERNAME'] = \"oxanac\" # username from the json file\n",
        "os.environ['KAGGLE_KEY'] = \"11d1f8cbc5a5b45dde49550807b03b8a\" # key from the json file\n",
        "!kaggle datasets download -d iarunava/cell-images-for-detecting-malaria #api copied from kaggle"
      ],
      "execution_count": 1,
      "outputs": [
        {
          "output_type": "stream",
          "text": [
            "Downloading cell-images-for-detecting-malaria.zip to /content\n",
            " 98% 665M/675M [00:09<00:00, 67.3MB/s]\n",
            "100% 675M/675M [00:09<00:00, 71.8MB/s]\n"
          ],
          "name": "stdout"
        }
      ]
    },
    {
      "cell_type": "code",
      "metadata": {
        "id": "AR_C3VayZXUd",
        "colab_type": "code",
        "outputId": "951896a7-6f08-4960-ca56-47af5d65892b",
        "colab": {
          "base_uri": "https://localhost:8080/",
          "height": 34
        }
      },
      "source": [
        "# Upload data\n",
        "from zipfile import ZipFile\n",
        "# Upload data\n",
        "from zipfile import ZipFile\n",
        "\n",
        "file_name = \"/content/cell-images-for-detecting-malaria.zip\"\n",
        "\n",
        "with ZipFile(file_name, 'r') as zip:\n",
        "  zip.extractall()\n",
        "  print('done')"
      ],
      "execution_count": 2,
      "outputs": [
        {
          "output_type": "stream",
          "text": [
            "done\n"
          ],
          "name": "stdout"
        }
      ]
    },
    {
      "cell_type": "code",
      "metadata": {
        "id": "TayHpz9qMshj",
        "colab_type": "code",
        "outputId": "1c748ce7-36a5-4e54-e227-946ec3eddc33",
        "colab": {
          "base_uri": "https://localhost:8080/",
          "height": 34
        }
      },
      "source": [
        "\n",
        "data_dir_list = os.listdir('/content/cell_images')\n",
        "print(data_dir_list)"
      ],
      "execution_count": 3,
      "outputs": [
        {
          "output_type": "stream",
          "text": [
            "['Parasitized', 'Uninfected', 'cell_images']\n"
          ],
          "name": "stdout"
        }
      ]
    },
    {
      "cell_type": "code",
      "metadata": {
        "id": "rR3SGk0sM6S3",
        "colab_type": "code",
        "outputId": "0c79e921-c662-4937-e666-8f61fabf4af4",
        "colab": {
          "base_uri": "https://localhost:8080/",
          "height": 34
        }
      },
      "source": [
        "path, dirs, files = next(os.walk(\"/content/cell_images/Uninfected\"))\n",
        "#counting number of image files in the original Uninfected folder\n",
        "file_count = len(files)\n",
        "print(file_count)"
      ],
      "execution_count": 4,
      "outputs": [
        {
          "output_type": "stream",
          "text": [
            "13780\n"
          ],
          "name": "stdout"
        }
      ]
    },
    {
      "cell_type": "code",
      "metadata": {
        "id": "wAIU5W4ONgAJ",
        "colab_type": "code",
        "outputId": "0e8191d0-17d6-443e-b747-8e3909b18bb3",
        "colab": {
          "base_uri": "https://localhost:8080/",
          "height": 34
        }
      },
      "source": [
        "path, dirs, files = next(os.walk(\"/content/cell_images/Parasitized\"))\n",
        "#counting number of image files in the original Parasitized folder\n",
        "file_count = len(files)\n",
        "print(file_count)"
      ],
      "execution_count": 5,
      "outputs": [
        {
          "output_type": "stream",
          "text": [
            "13780\n"
          ],
          "name": "stdout"
        }
      ]
    },
    {
      "cell_type": "code",
      "metadata": {
        "id": "2kZqIPZDOEnT",
        "colab_type": "code",
        "colab": {}
      },
      "source": [
        "\n",
        "original_dataset_dir_U = '/content/cell_images/Uninfected'\n",
        "original_dataset_dir_P = '/content/cell_images/Parasitized'\n",
        "\n",
        "#creating new directory to where we'll copy images from the two original directories\n",
        "base_dir = '/content/exercise'\n",
        "os.mkdir(base_dir)"
      ],
      "execution_count": 0,
      "outputs": []
    },
    {
      "cell_type": "code",
      "metadata": {
        "id": "h0P3uQ8bOEz2",
        "colab_type": "code",
        "outputId": "5b70738c-9d1a-47ae-ea12-53bcc78c9358",
        "colab": {
          "base_uri": "https://localhost:8080/",
          "height": 187
        }
      },
      "source": [
        "# List some (10) of the files in a directory using os.listdir\n",
        "basepath = '/content/cell_images/Uninfected'\n",
        "i=0\n",
        "for entry in os.listdir(basepath):\n",
        "    i=i+1\n",
        "    if i<=10:\n",
        "      if os.path.isfile(os.path.join(basepath, entry)):\n",
        "        print(entry)\n",
        "  "
      ],
      "execution_count": 7,
      "outputs": [
        {
          "output_type": "stream",
          "text": [
            "C211ThinF_IMG_20151029_163959_cell_225.png\n",
            "C70P31_ThinF_IMG_20150819_141730_cell_26.png\n",
            "C69P30N_ThinF_IMG_20150819_140652_cell_149.png\n",
            "C6NThinF_IMG_20150609_122725_cell_131.png\n",
            "C62P23N_ThinF_IMG_20150818_133307_cell_18.png\n",
            "C149P110ThinF_IMG_20151115_114910_cell_37.png\n",
            "C132P93ThinF_IMG_20151004_151733_cell_98.png\n",
            "C89P50ThinF_IMG_20150820_163347_cell_196.png\n",
            "C138P99ThinF_IMG_20151005_173453_cell_101.png\n",
            "C239ThinF_IMG_20151127_113150_cell_3.png\n"
          ],
          "name": "stdout"
        }
      ]
    },
    {
      "cell_type": "code",
      "metadata": {
        "id": "v3nEGCwSi-Vw",
        "colab_type": "code",
        "colab": {}
      },
      "source": [
        "#Creating three directories under 'exercise'\n",
        "train_dir = os.path.join(base_dir, 'train')\n",
        "os.mkdir(train_dir)\n",
        "\n",
        "validation_dir = os.path.join(base_dir, 'validation')\n",
        "os.mkdir(validation_dir)\n",
        "\n",
        "test_dir = os.path.join(base_dir, 'test')\n",
        "os.mkdir(test_dir)"
      ],
      "execution_count": 0,
      "outputs": []
    },
    {
      "cell_type": "code",
      "metadata": {
        "id": "pzk8fxzJjP4H",
        "colab_type": "code",
        "colab": {}
      },
      "source": [
        "#under each directory (train, validation, test) create 'uninfected' and 'parasitized' folders\n",
        "train_uninfected_dir = os.path.join(train_dir, 'uninfected')\n",
        "os.mkdir(train_uninfected_dir)\n",
        "\n",
        "train_parasitized_dir = os.path.join(train_dir, 'parasitized')\n",
        "os.mkdir(train_parasitized_dir)\n",
        "\n",
        "validation_uninfected_dir = os.path.join(validation_dir, 'uninfected')\n",
        "os.mkdir(validation_uninfected_dir)\n",
        "\n",
        "validation_parasitized_dir = os.path.join(validation_dir, 'parasitized')\n",
        "os.mkdir(validation_parasitized_dir)\n",
        "\n",
        "test_uninfected_dir = os.path.join(test_dir, 'uninfected')\n",
        "os.mkdir(test_uninfected_dir)\n",
        "\n",
        "test_parasitized_dir = os.path.join(test_dir, 'parasitized')\n",
        "os.mkdir(test_parasitized_dir)"
      ],
      "execution_count": 0,
      "outputs": []
    },
    {
      "cell_type": "code",
      "metadata": {
        "id": "wqAVtMEQkmj3",
        "colab_type": "code",
        "colab": {}
      },
      "source": [
        "# Python shutil module enables us to operate with file objects easily\n",
        "import shutil"
      ],
      "execution_count": 0,
      "outputs": []
    },
    {
      "cell_type": "code",
      "metadata": {
        "id": "1q8n2fOsk4Rd",
        "colab_type": "code",
        "colab": {}
      },
      "source": [
        "#iterating over files in the original 'Uninfected' directory and copying 1000 files into corresponding 'train' folder;\n",
        "#copying 500 files to the corresponing 'validation' folder and 500 files to the corresponding 'test' folder\n",
        "i=0\n",
        "for entry in os.listdir(original_dataset_dir_U):\n",
        "    i=i+1\n",
        "    if i<=1000:\n",
        "      if os.path.isfile(os.path.join(original_dataset_dir_U, entry)):\n",
        "        fname=entry\n",
        "        src = os.path.join(original_dataset_dir_U, fname)\n",
        "        dst = os.path.join(train_uninfected_dir, fname)\n",
        "        #print(src,dst)\n",
        "        shutil.copyfile(src, dst)  \n",
        "    if i>1000 and i<=1500:\n",
        "      if os.path.isfile(os.path.join(original_dataset_dir_U, entry)):\n",
        "        fname=entry\n",
        "        src = os.path.join(original_dataset_dir_U, fname)\n",
        "        dst = os.path.join(validation_uninfected_dir, fname)\n",
        "        #print(src,dst)\n",
        "        shutil.copyfile(src, dst)\n",
        "    if i>1500 and i<=2000:\n",
        "      if os.path.isfile(os.path.join(original_dataset_dir_U, entry)):\n",
        "        fname=entry\n",
        "        src = os.path.join(original_dataset_dir_U, fname)\n",
        "        dst = os.path.join(test_uninfected_dir, fname)\n",
        "        #print(src,dst)\n",
        "        shutil.copyfile(src, dst)\n"
      ],
      "execution_count": 0,
      "outputs": []
    },
    {
      "cell_type": "code",
      "metadata": {
        "id": "HTV0wUOCp0_W",
        "colab_type": "code",
        "colab": {}
      },
      "source": [
        "#iterating over files in the original 'Parasitized' directory and copying 1000 files into corresponding 'train' folder;\n",
        "#copying 500 files to the corresponing 'validation' folder and 500 files to the corresponding 'test' folder\n",
        "i=0\n",
        "for entry in os.listdir(original_dataset_dir_P):\n",
        "    i=i+1\n",
        "    if i<=1000:\n",
        "      if os.path.isfile(os.path.join(original_dataset_dir_P, entry)):\n",
        "        fname=entry\n",
        "        src = os.path.join(original_dataset_dir_P, fname)\n",
        "        dst = os.path.join(train_parasitized_dir, fname)\n",
        "        #print(src,dst)\n",
        "        shutil.copyfile(src, dst)  \n",
        "    if i>1000 and i<=1500:\n",
        "      if os.path.isfile(os.path.join(original_dataset_dir_P, entry)):\n",
        "        fname=entry\n",
        "        src = os.path.join(original_dataset_dir_P, fname)\n",
        "        dst = os.path.join(validation_parasitized_dir, fname)\n",
        "        #print(src,dst)\n",
        "        shutil.copyfile(src, dst)\n",
        "    if i>1500 and i<=2000:\n",
        "      if os.path.isfile(os.path.join(original_dataset_dir_P, entry)):\n",
        "        fname=entry\n",
        "        src = os.path.join(original_dataset_dir_P, fname)\n",
        "        dst = os.path.join(test_parasitized_dir, fname)\n",
        "        #print(src,dst)\n",
        "        shutil.copyfile(src, dst)"
      ],
      "execution_count": 0,
      "outputs": []
    },
    {
      "cell_type": "code",
      "metadata": {
        "id": "LGPZ-Ti6rtKq",
        "colab_type": "code",
        "outputId": "dcaf3bd1-0198-449f-aea4-6bd4e3c1c80b",
        "colab": {
          "base_uri": "https://localhost:8080/",
          "height": 119
        }
      },
      "source": [
        "print('total training uninfected images:', len(os.listdir(train_uninfected_dir)))\n",
        "print('total training parasitized images:', len(os.listdir(train_parasitized_dir)))\n",
        "print('total validation uninfected images:', len(os.listdir(validation_uninfected_dir)))\n",
        "print('total validation parasitized images:', len(os.listdir(validation_parasitized_dir)))\n",
        "print('total test uninfected images:', len(os.listdir(test_uninfected_dir)))\n",
        "print('total test parasitized images:', len(os.listdir(test_parasitized_dir)))"
      ],
      "execution_count": 13,
      "outputs": [
        {
          "output_type": "stream",
          "text": [
            "total training uninfected images: 1000\n",
            "total training parasitized images: 1000\n",
            "total validation uninfected images: 500\n",
            "total validation parasitized images: 500\n",
            "total test uninfected images: 500\n",
            "total test parasitized images: 500\n"
          ],
          "name": "stdout"
        }
      ]
    },
    {
      "cell_type": "markdown",
      "metadata": {
        "id": "yIPj6TnEusi_",
        "colab_type": "text"
      },
      "source": [
        "https://theailearner.com/2019/07/06/imagedatagenerator-flow_from_directory-method/\n",
        "\n",
        "flow_from_directory(directory, target_size=(256, 256), color_mode='rgb', classes=None, class_mode='categorical', batch_size=32, shuffle=True, seed=None, save_to_dir=None, save_prefix='', save_format='png', follow_links=False, subset=None, interpolation='nearest')\n",
        "\n",
        "Here, the directory is the path of the directory that contains the sub-directories of the respective classes. Each subdirectory is treated as a different class. The name of the class can either be inferred from the subdirectory name or can be passed using the “classes” argument. The labels to these classes are assigned alphanumerically.\n",
        "\n",
        "For instance, suppose you have a directory structure as shown below\n",
        "\n",
        "data/\n",
        "    train/\n",
        "        dogs/\n",
        "            dog001.jpg\n",
        "            dog002.jpg\n",
        "            ...\n",
        "        cats/\n",
        "            cat001.jpg\n",
        "            cat002.jpg\n",
        "            ...\n",
        "\n",
        "So, in this case, the directory will be the path to the train folder. If we set the “classes=None“, the class names will be inferred from the sub-directory names as “dogs” and “cats”. Because the labels are assigned alphanumerically, the labels for this will be {‘cats’: 0, ‘dogs’: 1}. If we have passed the argument classes=[‘Dog’,’Cat’], then the labels will be {‘Cat’: 0, ‘Dog’: 1}."
      ]
    },
    {
      "cell_type": "code",
      "metadata": {
        "id": "KN_83d-VspEw",
        "colab_type": "code",
        "outputId": "3eec44e1-be16-4a6b-c5cb-5d966d4f28a9",
        "colab": {
          "base_uri": "https://localhost:8080/",
          "height": 114
        }
      },
      "source": [
        "from keras.preprocessing.image import ImageDataGenerator\n",
        "\n",
        "train_datagen = ImageDataGenerator(rescale=1./255)\n",
        "test_datagen = ImageDataGenerator(rescale=1./255)\n",
        "\n",
        "train_generator = train_datagen.flow_from_directory(train_dir,\n",
        "                                                    target_size=(150, 150), \n",
        "                                                    batch_size=20,\n",
        "                                                    class_mode='binary')\n",
        "\n",
        "validation_generator = test_datagen.flow_from_directory(validation_dir,\n",
        "                                                        target_size=(150, 150),\n",
        "                                                        batch_size=20,\n",
        "                                                        class_mode='binary')"
      ],
      "execution_count": 14,
      "outputs": [
        {
          "output_type": "stream",
          "text": [
            "Using TensorFlow backend.\n"
          ],
          "name": "stderr"
        },
        {
          "output_type": "display_data",
          "data": {
            "text/html": [
              "<p style=\"color: red;\">\n",
              "The default version of TensorFlow in Colab will soon switch to TensorFlow 2.x.<br>\n",
              "We recommend you <a href=\"https://www.tensorflow.org/guide/migrate\" target=\"_blank\">upgrade</a> now \n",
              "or ensure your notebook will continue to use TensorFlow 1.x via the <code>%tensorflow_version 1.x</code> magic:\n",
              "<a href=\"https://colab.research.google.com/notebooks/tensorflow_version.ipynb\" target=\"_blank\">more info</a>.</p>\n"
            ],
            "text/plain": [
              "<IPython.core.display.HTML object>"
            ]
          },
          "metadata": {
            "tags": []
          }
        },
        {
          "output_type": "stream",
          "text": [
            "Found 2000 images belonging to 2 classes.\n",
            "Found 1000 images belonging to 2 classes.\n"
          ],
          "name": "stdout"
        }
      ]
    },
    {
      "cell_type": "code",
      "metadata": {
        "id": "hlBYItcivJso",
        "colab_type": "code",
        "outputId": "800d6b2c-869c-4bf9-8f3e-65b48ca192c6",
        "colab": {
          "base_uri": "https://localhost:8080/",
          "height": 683
        }
      },
      "source": [
        "\n",
        "from keras import layers\n",
        "from keras import models\n",
        "\n",
        "model = models.Sequential()\n",
        "model.add(layers.Conv2D(32, (3, 3), activation='relu', input_shape=(150, 150, 3)))\n",
        "model.add(layers.MaxPooling2D((2, 2)))\n",
        "model.add(layers.Conv2D(64, (3, 3), activation='relu'))\n",
        "model.add(layers.MaxPooling2D((2, 2)))\n",
        "model.add(layers.Conv2D(128, (3, 3), activation='relu'))\n",
        "model.add(layers.MaxPooling2D((2, 2)))\n",
        "model.add(layers.Conv2D(128, (3, 3), activation='relu'))\n",
        "model.add(layers.MaxPooling2D((2, 2)))\n",
        "model.add(layers.Flatten())\n",
        "model.add(layers.Dense(512, activation='relu'))\n",
        "model.add(layers.Dense(1, activation='sigmoid'))\n",
        "model.summary()\n"
      ],
      "execution_count": 15,
      "outputs": [
        {
          "output_type": "stream",
          "text": [
            "WARNING:tensorflow:From /usr/local/lib/python3.6/dist-packages/keras/backend/tensorflow_backend.py:66: The name tf.get_default_graph is deprecated. Please use tf.compat.v1.get_default_graph instead.\n",
            "\n",
            "WARNING:tensorflow:From /usr/local/lib/python3.6/dist-packages/keras/backend/tensorflow_backend.py:541: The name tf.placeholder is deprecated. Please use tf.compat.v1.placeholder instead.\n",
            "\n",
            "WARNING:tensorflow:From /usr/local/lib/python3.6/dist-packages/keras/backend/tensorflow_backend.py:4432: The name tf.random_uniform is deprecated. Please use tf.random.uniform instead.\n",
            "\n",
            "WARNING:tensorflow:From /usr/local/lib/python3.6/dist-packages/keras/backend/tensorflow_backend.py:4267: The name tf.nn.max_pool is deprecated. Please use tf.nn.max_pool2d instead.\n",
            "\n",
            "Model: \"sequential_1\"\n",
            "_________________________________________________________________\n",
            "Layer (type)                 Output Shape              Param #   \n",
            "=================================================================\n",
            "conv2d_1 (Conv2D)            (None, 148, 148, 32)      896       \n",
            "_________________________________________________________________\n",
            "max_pooling2d_1 (MaxPooling2 (None, 74, 74, 32)        0         \n",
            "_________________________________________________________________\n",
            "conv2d_2 (Conv2D)            (None, 72, 72, 64)        18496     \n",
            "_________________________________________________________________\n",
            "max_pooling2d_2 (MaxPooling2 (None, 36, 36, 64)        0         \n",
            "_________________________________________________________________\n",
            "conv2d_3 (Conv2D)            (None, 34, 34, 128)       73856     \n",
            "_________________________________________________________________\n",
            "max_pooling2d_3 (MaxPooling2 (None, 17, 17, 128)       0         \n",
            "_________________________________________________________________\n",
            "conv2d_4 (Conv2D)            (None, 15, 15, 128)       147584    \n",
            "_________________________________________________________________\n",
            "max_pooling2d_4 (MaxPooling2 (None, 7, 7, 128)         0         \n",
            "_________________________________________________________________\n",
            "flatten_1 (Flatten)          (None, 6272)              0         \n",
            "_________________________________________________________________\n",
            "dense_1 (Dense)              (None, 512)               3211776   \n",
            "_________________________________________________________________\n",
            "dense_2 (Dense)              (None, 1)                 513       \n",
            "=================================================================\n",
            "Total params: 3,453,121\n",
            "Trainable params: 3,453,121\n",
            "Non-trainable params: 0\n",
            "_________________________________________________________________\n"
          ],
          "name": "stdout"
        }
      ]
    },
    {
      "cell_type": "code",
      "metadata": {
        "id": "zwegSjcZvYA8",
        "colab_type": "code",
        "outputId": "f619d970-ae52-454b-f648-5d2271cacd6e",
        "colab": {
          "base_uri": "https://localhost:8080/",
          "height": 156
        }
      },
      "source": [
        "\n",
        "from keras import optimizers\n",
        "model.compile(loss='binary_crossentropy', \n",
        "              optimizer=optimizers.RMSprop(lr=1e-4),\n",
        "              metrics=['acc'])"
      ],
      "execution_count": 16,
      "outputs": [
        {
          "output_type": "stream",
          "text": [
            "WARNING:tensorflow:From /usr/local/lib/python3.6/dist-packages/keras/optimizers.py:793: The name tf.train.Optimizer is deprecated. Please use tf.compat.v1.train.Optimizer instead.\n",
            "\n",
            "WARNING:tensorflow:From /usr/local/lib/python3.6/dist-packages/keras/backend/tensorflow_backend.py:3657: The name tf.log is deprecated. Please use tf.math.log instead.\n",
            "\n",
            "WARNING:tensorflow:From /tensorflow-1.15.0/python3.6/tensorflow_core/python/ops/nn_impl.py:183: where (from tensorflow.python.ops.array_ops) is deprecated and will be removed in a future version.\n",
            "Instructions for updating:\n",
            "Use tf.where in 2.0, which has the same broadcast rule as np.where\n"
          ],
          "name": "stdout"
        }
      ]
    },
    {
      "cell_type": "code",
      "metadata": {
        "id": "TcFNtrUsvgik",
        "colab_type": "code",
        "colab": {
          "base_uri": "https://localhost:8080/",
          "height": 1000
        },
        "outputId": "d6b5c1a4-9375-413a-9145-0fdfcfd8e5ac"
      },
      "source": [
        "history = model.fit_generator(train_generator,\n",
        "                              steps_per_epoch=100,\n",
        "                              epochs=30,\n",
        "                              validation_data=validation_generator,\n",
        "                              validation_steps=10)"
      ],
      "execution_count": 17,
      "outputs": [
        {
          "output_type": "stream",
          "text": [
            "WARNING:tensorflow:From /usr/local/lib/python3.6/dist-packages/keras/backend/tensorflow_backend.py:1033: The name tf.assign_add is deprecated. Please use tf.compat.v1.assign_add instead.\n",
            "\n",
            "WARNING:tensorflow:From /usr/local/lib/python3.6/dist-packages/keras/backend/tensorflow_backend.py:1020: The name tf.assign is deprecated. Please use tf.compat.v1.assign instead.\n",
            "\n",
            "WARNING:tensorflow:From /usr/local/lib/python3.6/dist-packages/keras/backend/tensorflow_backend.py:3005: The name tf.Session is deprecated. Please use tf.compat.v1.Session instead.\n",
            "\n",
            "Epoch 1/30\n",
            "WARNING:tensorflow:From /usr/local/lib/python3.6/dist-packages/keras/backend/tensorflow_backend.py:190: The name tf.get_default_session is deprecated. Please use tf.compat.v1.get_default_session instead.\n",
            "\n",
            "WARNING:tensorflow:From /usr/local/lib/python3.6/dist-packages/keras/backend/tensorflow_backend.py:197: The name tf.ConfigProto is deprecated. Please use tf.compat.v1.ConfigProto instead.\n",
            "\n",
            "WARNING:tensorflow:From /usr/local/lib/python3.6/dist-packages/keras/backend/tensorflow_backend.py:207: The name tf.global_variables is deprecated. Please use tf.compat.v1.global_variables instead.\n",
            "\n",
            "WARNING:tensorflow:From /usr/local/lib/python3.6/dist-packages/keras/backend/tensorflow_backend.py:216: The name tf.is_variable_initialized is deprecated. Please use tf.compat.v1.is_variable_initialized instead.\n",
            "\n",
            "WARNING:tensorflow:From /usr/local/lib/python3.6/dist-packages/keras/backend/tensorflow_backend.py:223: The name tf.variables_initializer is deprecated. Please use tf.compat.v1.variables_initializer instead.\n",
            "\n",
            "100/100 [==============================] - 16s 164ms/step - loss: 0.6865 - acc: 0.5625 - val_loss: 0.6629 - val_acc: 0.5950\n",
            "Epoch 2/30\n",
            "100/100 [==============================] - 3s 31ms/step - loss: 0.6386 - acc: 0.6325 - val_loss: 0.6401 - val_acc: 0.6350\n",
            "Epoch 3/30\n",
            "100/100 [==============================] - 3s 32ms/step - loss: 0.5927 - acc: 0.6990 - val_loss: 0.5514 - val_acc: 0.7500\n",
            "Epoch 4/30\n",
            "100/100 [==============================] - 3s 32ms/step - loss: 0.5422 - acc: 0.7335 - val_loss: 0.5562 - val_acc: 0.7400\n",
            "Epoch 5/30\n",
            "100/100 [==============================] - 3s 32ms/step - loss: 0.4886 - acc: 0.7665 - val_loss: 0.4882 - val_acc: 0.7700\n",
            "Epoch 6/30\n",
            "100/100 [==============================] - 3s 32ms/step - loss: 0.4309 - acc: 0.8080 - val_loss: 0.3963 - val_acc: 0.7950\n",
            "Epoch 7/30\n",
            "100/100 [==============================] - 3s 32ms/step - loss: 0.3416 - acc: 0.8585 - val_loss: 0.3039 - val_acc: 0.8600\n",
            "Epoch 8/30\n",
            "100/100 [==============================] - 3s 32ms/step - loss: 0.2599 - acc: 0.8960 - val_loss: 0.3057 - val_acc: 0.8750\n",
            "Epoch 9/30\n",
            "100/100 [==============================] - 3s 32ms/step - loss: 0.2019 - acc: 0.9285 - val_loss: 0.2677 - val_acc: 0.8850\n",
            "Epoch 10/30\n",
            "100/100 [==============================] - 3s 32ms/step - loss: 0.1843 - acc: 0.9300 - val_loss: 0.2418 - val_acc: 0.8900\n",
            "Epoch 11/30\n",
            "100/100 [==============================] - 3s 32ms/step - loss: 0.1633 - acc: 0.9425 - val_loss: 0.1966 - val_acc: 0.9300\n",
            "Epoch 12/30\n",
            "100/100 [==============================] - 3s 32ms/step - loss: 0.1480 - acc: 0.9495 - val_loss: 0.2452 - val_acc: 0.9050\n",
            "Epoch 13/30\n",
            "100/100 [==============================] - 3s 32ms/step - loss: 0.1422 - acc: 0.9500 - val_loss: 0.2143 - val_acc: 0.9200\n",
            "Epoch 14/30\n",
            "100/100 [==============================] - 3s 32ms/step - loss: 0.1266 - acc: 0.9580 - val_loss: 0.1664 - val_acc: 0.9500\n",
            "Epoch 15/30\n",
            "100/100 [==============================] - 3s 32ms/step - loss: 0.1209 - acc: 0.9595 - val_loss: 0.1862 - val_acc: 0.9500\n",
            "Epoch 16/30\n",
            "100/100 [==============================] - 3s 32ms/step - loss: 0.1074 - acc: 0.9590 - val_loss: 0.1334 - val_acc: 0.9700\n",
            "Epoch 17/30\n",
            "100/100 [==============================] - 3s 32ms/step - loss: 0.1049 - acc: 0.9650 - val_loss: 0.2100 - val_acc: 0.9200\n",
            "Epoch 18/30\n",
            "100/100 [==============================] - 3s 32ms/step - loss: 0.0926 - acc: 0.9700 - val_loss: 0.3135 - val_acc: 0.9050\n",
            "Epoch 19/30\n",
            "100/100 [==============================] - 3s 32ms/step - loss: 0.0841 - acc: 0.9695 - val_loss: 0.3374 - val_acc: 0.9400\n",
            "Epoch 20/30\n",
            "100/100 [==============================] - 3s 32ms/step - loss: 0.0761 - acc: 0.9765 - val_loss: 0.3184 - val_acc: 0.9150\n",
            "Epoch 21/30\n",
            "100/100 [==============================] - 3s 33ms/step - loss: 0.0722 - acc: 0.9770 - val_loss: 0.2415 - val_acc: 0.9450\n",
            "Epoch 22/30\n",
            "100/100 [==============================] - 3s 32ms/step - loss: 0.0601 - acc: 0.9790 - val_loss: 0.2906 - val_acc: 0.9200\n",
            "Epoch 23/30\n",
            "100/100 [==============================] - 3s 32ms/step - loss: 0.0551 - acc: 0.9820 - val_loss: 0.2360 - val_acc: 0.9500\n",
            "Epoch 24/30\n",
            "100/100 [==============================] - 3s 32ms/step - loss: 0.0552 - acc: 0.9825 - val_loss: 0.3621 - val_acc: 0.9250\n",
            "Epoch 25/30\n",
            "100/100 [==============================] - 3s 32ms/step - loss: 0.0427 - acc: 0.9850 - val_loss: 0.2447 - val_acc: 0.9350\n",
            "Epoch 26/30\n",
            "100/100 [==============================] - 3s 33ms/step - loss: 0.0385 - acc: 0.9880 - val_loss: 0.3920 - val_acc: 0.8850\n",
            "Epoch 27/30\n",
            "100/100 [==============================] - 3s 32ms/step - loss: 0.0381 - acc: 0.9870 - val_loss: 0.3423 - val_acc: 0.9350\n",
            "Epoch 28/30\n",
            "100/100 [==============================] - 3s 32ms/step - loss: 0.0299 - acc: 0.9900 - val_loss: 0.3434 - val_acc: 0.9350\n",
            "Epoch 29/30\n",
            "100/100 [==============================] - 3s 32ms/step - loss: 0.0308 - acc: 0.9915 - val_loss: 0.2209 - val_acc: 0.9450\n",
            "Epoch 30/30\n",
            "100/100 [==============================] - 3s 31ms/step - loss: 0.0242 - acc: 0.9910 - val_loss: 0.4072 - val_acc: 0.9250\n"
          ],
          "name": "stdout"
        }
      ]
    },
    {
      "cell_type": "code",
      "metadata": {
        "id": "gZEDtex57NEO",
        "colab_type": "code",
        "colab": {
          "base_uri": "https://localhost:8080/",
          "height": 545
        },
        "outputId": "1cb31e9a-109c-4509-9a02-c55a9535b004"
      },
      "source": [
        "model.save('exercise_malaria.h5')\n",
        "\n",
        "import matplotlib.pyplot as plt\n",
        "\n",
        "acc = history.history['acc']\n",
        "val_acc = history.history['val_acc']\n",
        "loss = history.history['loss']\n",
        "val_loss = history.history['val_loss']\n",
        "\n",
        "epochs = range(1, len(acc) + 1)\n",
        "\n",
        "plt.plot(epochs, acc, 'bo', label='Training acc')\n",
        "plt.plot(epochs, val_acc, 'b', label='Validation acc')\n",
        "plt.title('Training and validation accuracy')\n",
        "plt.legend()\n",
        "\n",
        "plt.figure()\n",
        "\n",
        "plt.plot(epochs, loss, 'bo', label='Training loss')\n",
        "plt.plot(epochs, val_loss, 'b', label='Validation loss')\n",
        "plt.title('Training and validation loss')\n",
        "plt.legend()\n",
        "\n",
        "plt.show()"
      ],
      "execution_count": 18,
      "outputs": [
        {
          "output_type": "display_data",
          "data": {
            "image/png": "[encoded data removed]",
            "text/plain": [
              "<Figure size 432x288 with 1 Axes>"
            ]
          },
          "metadata": {
            "tags": []
          }
        },
        {
          "output_type": "display_data",
          "data": {
            "image/png": "[encoded data removed]",
            "text/plain": [
              "<Figure size 432x288 with 1 Axes>"
            ]
          },
          "metadata": {
            "tags": []
          }
        }
      ]
    },
    {
      "cell_type": "code",
      "metadata": {
        "id": "oQ1S2oTn-J1m",
        "colab_type": "code",
        "colab": {
          "base_uri": "https://localhost:8080/",
          "height": 122
        },
        "outputId": "3a6b044a-7e3e-49e7-9d81-c9544a0b40b1"
      },
      "source": [
        "#Convolutional network with dropout\n",
        "model = models.Sequential()\n",
        "model.add(layers.Conv2D(32, (3, 3), activation='relu',\n",
        "input_shape=(150, 150, 3)))\n",
        "model.add(layers.MaxPooling2D((2, 2)))\n",
        "model.add(layers.Conv2D(64, (3, 3), activation='relu'))\n",
        "model.add(layers.MaxPooling2D((2, 2)))\n",
        "model.add(layers.Conv2D(128, (3, 3), activation='relu'))\n",
        "model.add(layers.MaxPooling2D((2, 2)))\n",
        "model.add(layers.Conv2D(128, (3, 3), activation='relu'))\n",
        "model.add(layers.MaxPooling2D((2, 2)))\n",
        "model.add(layers.Flatten())\n",
        "model.add(layers.Dropout(0.5))\n",
        "model.add(layers.Dense(512, activation='relu'))\n",
        "model.add(layers.Dense(1, activation='sigmoid'))\n",
        "\n",
        "model.compile(loss='binary_crossentropy',\n",
        "              optimizer=optimizers.RMSprop(lr=1e-4),\n",
        "              metrics=['acc'])"
      ],
      "execution_count": 21,
      "outputs": [
        {
          "output_type": "stream",
          "text": [
            "WARNING:tensorflow:From /usr/local/lib/python3.6/dist-packages/keras/backend/tensorflow_backend.py:148: The name tf.placeholder_with_default is deprecated. Please use tf.compat.v1.placeholder_with_default instead.\n",
            "\n",
            "WARNING:tensorflow:From /usr/local/lib/python3.6/dist-packages/keras/backend/tensorflow_backend.py:3733: calling dropout (from tensorflow.python.ops.nn_ops) with keep_prob is deprecated and will be removed in a future version.\n",
            "Instructions for updating:\n",
            "Please use `rate` instead of `keep_prob`. Rate should be set to `rate = 1 - keep_prob`.\n"
          ],
          "name": "stdout"
        }
      ]
    },
    {
      "cell_type": "code",
      "metadata": {
        "id": "2kVrtPW073cI",
        "colab_type": "code",
        "colab": {
          "base_uri": "https://localhost:8080/",
          "height": 731
        },
        "outputId": "6caae887-2ed0-4d1d-f563-f59ddaa3a7e9"
      },
      "source": [
        "train_datagen = ImageDataGenerator(rescale=1./255,\n",
        "                                   rotation_range=40,\n",
        "                                   width_shift_range=0.2,\n",
        "                                   height_shift_range=0.2,\n",
        "                                   shear_range=0.2,\n",
        "                                   zoom_range=0.2,\n",
        "                                   horizontal_flip=True,)\n",
        "\n",
        "test_datagen = ImageDataGenerator(rescale=1./255)\n",
        "\n",
        "train_generator = train_datagen.flow_from_directory(train_dir,\n",
        "                                                    target_size=(150, 150),\n",
        "                                                    batch_size=32,\n",
        "                                                    class_mode='binary')\n",
        "\n",
        "validation_generator = test_datagen.flow_from_directory(validation_dir,\n",
        "                                                        target_size=(150, 150),\n",
        "                                                        batch_size=32,\n",
        "                                                        class_mode='binary')\n",
        "\n",
        "history = model.fit_generator(train_generator,\n",
        "                              steps_per_epoch=100,\n",
        "                              epochs=20,\n",
        "                              validation_data=validation_generator,\n",
        "                              validation_steps=50)"
      ],
      "execution_count": 22,
      "outputs": [
        {
          "output_type": "stream",
          "text": [
            "Found 2000 images belonging to 2 classes.\n",
            "Found 1000 images belonging to 2 classes.\n",
            "Epoch 1/20\n",
            "100/100 [==============================] - 21s 207ms/step - loss: 0.6848 - acc: 0.5544 - val_loss: 0.6939 - val_acc: 0.5590\n",
            "Epoch 2/20\n",
            "100/100 [==============================] - 19s 189ms/step - loss: 0.6617 - acc: 0.6084 - val_loss: 0.6485 - val_acc: 0.6289\n",
            "Epoch 3/20\n",
            "100/100 [==============================] - 19s 190ms/step - loss: 0.6379 - acc: 0.6415 - val_loss: 0.6096 - val_acc: 0.6739\n",
            "Epoch 4/20\n",
            "100/100 [==============================] - 19s 194ms/step - loss: 0.6074 - acc: 0.6812 - val_loss: 0.5784 - val_acc: 0.7113\n",
            "Epoch 5/20\n",
            "100/100 [==============================] - 18s 183ms/step - loss: 0.5857 - acc: 0.7047 - val_loss: 0.5157 - val_acc: 0.7709\n",
            "Epoch 6/20\n",
            "100/100 [==============================] - 20s 201ms/step - loss: 0.5334 - acc: 0.7487 - val_loss: 0.4464 - val_acc: 0.8241\n",
            "Epoch 7/20\n",
            "100/100 [==============================] - 19s 188ms/step - loss: 0.4547 - acc: 0.7978 - val_loss: 0.3443 - val_acc: 0.8458\n",
            "Epoch 8/20\n",
            "100/100 [==============================] - 20s 195ms/step - loss: 0.3854 - acc: 0.8263 - val_loss: 0.2784 - val_acc: 0.8905\n",
            "Epoch 9/20\n",
            "100/100 [==============================] - 19s 185ms/step - loss: 0.3491 - acc: 0.8509 - val_loss: 0.2369 - val_acc: 0.9117\n",
            "Epoch 10/20\n",
            "100/100 [==============================] - 19s 193ms/step - loss: 0.3084 - acc: 0.8650 - val_loss: 0.2531 - val_acc: 0.9105\n",
            "Epoch 11/20\n",
            "100/100 [==============================] - 19s 193ms/step - loss: 0.3063 - acc: 0.8725 - val_loss: 0.2133 - val_acc: 0.9246\n",
            "Epoch 12/20\n",
            "100/100 [==============================] - 19s 188ms/step - loss: 0.3003 - acc: 0.8841 - val_loss: 0.2086 - val_acc: 0.9391\n",
            "Epoch 13/20\n",
            "100/100 [==============================] - 19s 193ms/step - loss: 0.2896 - acc: 0.8856 - val_loss: 0.2405 - val_acc: 0.9175\n",
            "Epoch 14/20\n",
            "100/100 [==============================] - 19s 189ms/step - loss: 0.2998 - acc: 0.8806 - val_loss: 0.2104 - val_acc: 0.9334\n",
            "Epoch 15/20\n",
            "100/100 [==============================] - 19s 191ms/step - loss: 0.2797 - acc: 0.8997 - val_loss: 0.2433 - val_acc: 0.9291\n",
            "Epoch 16/20\n",
            "100/100 [==============================] - 19s 188ms/step - loss: 0.2816 - acc: 0.8959 - val_loss: 0.1819 - val_acc: 0.9427\n",
            "Epoch 17/20\n",
            "100/100 [==============================] - 18s 184ms/step - loss: 0.2743 - acc: 0.8978 - val_loss: 0.1878 - val_acc: 0.9429\n",
            "Epoch 18/20\n",
            "100/100 [==============================] - 20s 201ms/step - loss: 0.2752 - acc: 0.8987 - val_loss: 0.2000 - val_acc: 0.9427\n",
            "Epoch 19/20\n",
            "100/100 [==============================] - 19s 190ms/step - loss: 0.2680 - acc: 0.9059 - val_loss: 0.1916 - val_acc: 0.9346\n",
            "Epoch 20/20\n",
            "100/100 [==============================] - 19s 192ms/step - loss: 0.2774 - acc: 0.8978 - val_loss: 0.1671 - val_acc: 0.9497\n"
          ],
          "name": "stdout"
        }
      ]
    },
    {
      "cell_type": "code",
      "metadata": {
        "id": "3Tk-Pyhm955O",
        "colab_type": "code",
        "colab": {
          "base_uri": "https://localhost:8080/",
          "height": 545
        },
        "outputId": "cb9bb702-17fb-4ab7-baee-6c64b49aab3c"
      },
      "source": [
        "model.save('exercise_malaria_2.h5')\n",
        "\n",
        "\n",
        "acc = history.history['acc']\n",
        "val_acc = history.history['val_acc']\n",
        "loss = history.history['loss']\n",
        "val_loss = history.history['val_loss']\n",
        "\n",
        "epochs = range(1, len(acc) + 1)\n",
        "\n",
        "plt.plot(epochs, acc, 'bo', label='Training acc')\n",
        "plt.plot(epochs, val_acc, 'b', label='Validation acc')\n",
        "plt.title('Training and validation accuracy')\n",
        "plt.legend()\n",
        "\n",
        "plt.figure()\n",
        "\n",
        "plt.plot(epochs, loss, 'bo', label='Training loss')\n",
        "plt.plot(epochs, val_loss, 'b', label='Validation loss')\n",
        "plt.title('Training and validation loss')\n",
        "plt.legend()\n",
        "\n",
        "plt.show()"
      ],
      "execution_count": 23,
      "outputs": [
        {
          "output_type": "display_data",
          "data": {
            "image/png": "[encoded data removed]",
            "text/plain": [
              "<Figure size 432x288 with 1 Axes>"
            ]
          },
          "metadata": {
            "tags": []
          }
        },
        {
          "output_type": "display_data",
          "data": {
            "image/png": "[encoded data removed]",
            "text/plain": [
              "<Figure size 432x288 with 1 Axes>"
            ]
          },
          "metadata": {
            "tags": []
          }
        }
      ]
    }
  ]
}