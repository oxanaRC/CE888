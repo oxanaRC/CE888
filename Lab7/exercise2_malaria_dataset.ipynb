{
  "nbformat": 4,
  "nbformat_minor": 0,
  "metadata": {
    "colab": {
      "name": "exercise2_malaria_dataset.ipynb",
      "provenance": [],
      "collapsed_sections": [],
      "toc_visible": true,
      "authorship_tag": "ABX9TyPtedtj06q04bFdmR2Pxj6w",
      "include_colab_link": true
    },
    "kernelspec": {
      "name": "python3",
      "display_name": "Python 3"
    },
    "accelerator": "GPU"
  },
  "cells": [
    {
      "cell_type": "markdown",
      "metadata": {
        "id": "view-in-github",
        "colab_type": "text"
      },
      "source": [
        "<a href=\"https://colab.research.google.com/github/oxanaRC/CE888/blob/master/Lab7/exercise2_malaria_dataset.ipynb\" target=\"_parent\"><img src=\"https://colab.research.google.com/assets/colab-badge.svg\" alt=\"Open In Colab\"/></a>"
      ]
    },
    {
      "cell_type": "code",
      "metadata": {
        "id": "dEX5fHOzQdI4",
        "colab_type": "code",
        "outputId": "3f488653-304e-4dba-afc7-b77b831f1933",
        "colab": {
          "base_uri": "https://localhost:8080/",
          "height": 68
        }
      },
      "source": [
        "import os\n",
        "os.environ['KAGGLE_USERNAME'] = \"oxanac\" # username from the json file\n",
        "os.environ['KAGGLE_KEY'] = \"11d1f8cbc5a5b45dde49550807b03b8a\" # key from the json file\n",
        "!kaggle datasets download -d iarunava/cell-images-for-detecting-malaria #api copied from kaggle"
      ],
      "execution_count": 1,
      "outputs": [
        {
          "output_type": "stream",
          "text": [
            "Downloading cell-images-for-detecting-malaria.zip to /content\n",
            " 96% 649M/675M [00:12<00:00, 33.8MB/s]\n",
            "100% 675M/675M [00:12<00:00, 55.2MB/s]\n"
          ],
          "name": "stdout"
        }
      ]
    },
    {
      "cell_type": "code",
      "metadata": {
        "id": "AR_C3VayZXUd",
        "colab_type": "code",
        "outputId": "21e6085f-dbcf-41e6-e47e-b3ea45c4f7dd",
        "colab": {
          "base_uri": "https://localhost:8080/",
          "height": 34
        }
      },
      "source": [
        "# Upload data\n",
        "from zipfile import ZipFile\n",
        "# Upload data\n",
        "from zipfile import ZipFile\n",
        "\n",
        "file_name = \"/content/cell-images-for-detecting-malaria.zip\"\n",
        "\n",
        "with ZipFile(file_name, 'r') as zip:\n",
        "  zip.extractall()\n",
        "  print('done')"
      ],
      "execution_count": 2,
      "outputs": [
        {
          "output_type": "stream",
          "text": [
            "done\n"
          ],
          "name": "stdout"
        }
      ]
    },
    {
      "cell_type": "code",
      "metadata": {
        "id": "TayHpz9qMshj",
        "colab_type": "code",
        "outputId": "bd939702-f73a-4698-f6f3-98d5f578cfb6",
        "colab": {
          "base_uri": "https://localhost:8080/",
          "height": 34
        }
      },
      "source": [
        "\n",
        "data_dir_list = os.listdir('/content/cell_images')\n",
        "print(data_dir_list)"
      ],
      "execution_count": 3,
      "outputs": [
        {
          "output_type": "stream",
          "text": [
            "['Parasitized', 'Uninfected', 'cell_images']\n"
          ],
          "name": "stdout"
        }
      ]
    },
    {
      "cell_type": "code",
      "metadata": {
        "id": "rR3SGk0sM6S3",
        "colab_type": "code",
        "outputId": "9145644f-6a07-46bb-f468-082629b3c102",
        "colab": {
          "base_uri": "https://localhost:8080/",
          "height": 34
        }
      },
      "source": [
        "path, dirs, files = next(os.walk(\"/content/cell_images/Uninfected\"))\n",
        "#counting number of image files in the original Uninfected folder\n",
        "file_count = len(files)\n",
        "print(file_count)"
      ],
      "execution_count": 4,
      "outputs": [
        {
          "output_type": "stream",
          "text": [
            "13780\n"
          ],
          "name": "stdout"
        }
      ]
    },
    {
      "cell_type": "code",
      "metadata": {
        "id": "wAIU5W4ONgAJ",
        "colab_type": "code",
        "outputId": "0bcde040-e2be-4929-cd4b-9b431f244ed6",
        "colab": {
          "base_uri": "https://localhost:8080/",
          "height": 34
        }
      },
      "source": [
        "path, dirs, files = next(os.walk(\"/content/cell_images/Parasitized\"))\n",
        "#counting number of image files in the original Parasitized folder\n",
        "file_count = len(files)\n",
        "print(file_count)"
      ],
      "execution_count": 5,
      "outputs": [
        {
          "output_type": "stream",
          "text": [
            "13780\n"
          ],
          "name": "stdout"
        }
      ]
    },
    {
      "cell_type": "code",
      "metadata": {
        "id": "2kZqIPZDOEnT",
        "colab_type": "code",
        "colab": {}
      },
      "source": [
        "\n",
        "original_dataset_dir_U = '/content/cell_images/Uninfected'\n",
        "original_dataset_dir_P = '/content/cell_images/Parasitized'\n",
        "\n",
        "#creating new directory to where we'll copy images from the two original directories\n",
        "base_dir = '/content/exercise'\n",
        "os.mkdir(base_dir)"
      ],
      "execution_count": 0,
      "outputs": []
    },
    {
      "cell_type": "code",
      "metadata": {
        "id": "h0P3uQ8bOEz2",
        "colab_type": "code",
        "colab": {
          "base_uri": "https://localhost:8080/",
          "height": 187
        },
        "outputId": "e85ba3d4-57a4-4866-9175-c038ee778d4b"
      },
      "source": [
        "# List some (10) of the files in a directory using os.listdir\n",
        "basepath = '/content/cell_images/Uninfected'\n",
        "i=0\n",
        "for entry in os.listdir(basepath):\n",
        "    i=i+1\n",
        "    if i<=10:\n",
        "      if os.path.isfile(os.path.join(basepath, entry)):\n",
        "        print(entry)\n",
        "  "
      ],
      "execution_count": 7,
      "outputs": [
        {
          "output_type": "stream",
          "text": [
            "C211ThinF_IMG_20151029_163959_cell_225.png\n",
            "C70P31_ThinF_IMG_20150819_141730_cell_26.png\n",
            "C69P30N_ThinF_IMG_20150819_140652_cell_149.png\n",
            "C6NThinF_IMG_20150609_122725_cell_131.png\n",
            "C62P23N_ThinF_IMG_20150818_133307_cell_18.png\n",
            "C149P110ThinF_IMG_20151115_114910_cell_37.png\n",
            "C132P93ThinF_IMG_20151004_151733_cell_98.png\n",
            "C89P50ThinF_IMG_20150820_163347_cell_196.png\n",
            "C138P99ThinF_IMG_20151005_173453_cell_101.png\n",
            "C239ThinF_IMG_20151127_113150_cell_3.png\n"
          ],
          "name": "stdout"
        }
      ]
    },
    {
      "cell_type": "code",
      "metadata": {
        "id": "v3nEGCwSi-Vw",
        "colab_type": "code",
        "colab": {}
      },
      "source": [
        "#Creating three directories under 'exercise'\n",
        "train_dir = os.path.join(base_dir, 'train')\n",
        "os.mkdir(train_dir)\n",
        "\n",
        "validation_dir = os.path.join(base_dir, 'validation')\n",
        "os.mkdir(validation_dir)\n",
        "\n",
        "test_dir = os.path.join(base_dir, 'test')\n",
        "os.mkdir(test_dir)"
      ],
      "execution_count": 0,
      "outputs": []
    },
    {
      "cell_type": "code",
      "metadata": {
        "id": "pzk8fxzJjP4H",
        "colab_type": "code",
        "colab": {}
      },
      "source": [
        "#under each directory (train, validation, test) create 'uninfected' and 'parasitized' folders\n",
        "train_uninfected_dir = os.path.join(train_dir, 'uninfected')\n",
        "os.mkdir(train_uninfected_dir)\n",
        "\n",
        "train_parasitized_dir = os.path.join(train_dir, 'parasitized')\n",
        "os.mkdir(train_parasitized_dir)\n",
        "\n",
        "validation_uninfected_dir = os.path.join(validation_dir, 'uninfected')\n",
        "os.mkdir(validation_uninfected_dir)\n",
        "\n",
        "validation_parasitized_dir = os.path.join(validation_dir, 'parasitized')\n",
        "os.mkdir(validation_parasitized_dir)\n",
        "\n",
        "test_uninfected_dir = os.path.join(test_dir, 'uninfected')\n",
        "os.mkdir(test_uninfected_dir)\n",
        "\n",
        "test_parasitized_dir = os.path.join(test_dir, 'parasitized')\n",
        "os.mkdir(test_parasitized_dir)"
      ],
      "execution_count": 0,
      "outputs": []
    },
    {
      "cell_type": "code",
      "metadata": {
        "id": "wqAVtMEQkmj3",
        "colab_type": "code",
        "colab": {}
      },
      "source": [
        "# Python shutil module enables us to operate with file objects easily\n",
        "import shutil"
      ],
      "execution_count": 0,
      "outputs": []
    },
    {
      "cell_type": "code",
      "metadata": {
        "id": "1q8n2fOsk4Rd",
        "colab_type": "code",
        "colab": {}
      },
      "source": [
        "#iterating over files in the original 'Uninfected' directory and copying 1000 files into corresponding 'train' folder;\n",
        "#copying 500 files to the corresponing 'validation' folder and 500 files to the corresponding 'test' folder\n",
        "i=0\n",
        "for entry in os.listdir(original_dataset_dir_U):\n",
        "    i=i+1\n",
        "    if i<=1000:\n",
        "      if os.path.isfile(os.path.join(original_dataset_dir_U, entry)):\n",
        "        fname=entry\n",
        "        src = os.path.join(original_dataset_dir_U, fname)\n",
        "        dst = os.path.join(train_uninfected_dir, fname)\n",
        "        #print(src,dst)\n",
        "        shutil.copyfile(src, dst)  \n",
        "    if i>1000 and i<=1500:\n",
        "      if os.path.isfile(os.path.join(original_dataset_dir_U, entry)):\n",
        "        fname=entry\n",
        "        src = os.path.join(original_dataset_dir_U, fname)\n",
        "        dst = os.path.join(validation_uninfected_dir, fname)\n",
        "        #print(src,dst)\n",
        "        shutil.copyfile(src, dst)\n",
        "    if i>1500 and i<=2000:\n",
        "      if os.path.isfile(os.path.join(original_dataset_dir_U, entry)):\n",
        "        fname=entry\n",
        "        src = os.path.join(original_dataset_dir_U, fname)\n",
        "        dst = os.path.join(test_uninfected_dir, fname)\n",
        "        #print(src,dst)\n",
        "        shutil.copyfile(src, dst)\n"
      ],
      "execution_count": 0,
      "outputs": []
    },
    {
      "cell_type": "code",
      "metadata": {
        "id": "HTV0wUOCp0_W",
        "colab_type": "code",
        "colab": {}
      },
      "source": [
        "#iterating over files in the original 'Parasitized' directory and copying 1000 files into corresponding 'train' folder;\n",
        "#copying 500 files to the corresponing 'validation' folder and 500 files to the corresponding 'test' folder\n",
        "i=0\n",
        "for entry in os.listdir(original_dataset_dir_P):\n",
        "    i=i+1\n",
        "    if i<=1000:\n",
        "      if os.path.isfile(os.path.join(original_dataset_dir_P, entry)):\n",
        "        fname=entry\n",
        "        src = os.path.join(original_dataset_dir_P, fname)\n",
        "        dst = os.path.join(train_parasitized_dir, fname)\n",
        "        #print(src,dst)\n",
        "        shutil.copyfile(src, dst)  \n",
        "    if i>1000 and i<=1500:\n",
        "      if os.path.isfile(os.path.join(original_dataset_dir_P, entry)):\n",
        "        fname=entry\n",
        "        src = os.path.join(original_dataset_dir_P, fname)\n",
        "        dst = os.path.join(validation_parasitized_dir, fname)\n",
        "        #print(src,dst)\n",
        "        shutil.copyfile(src, dst)\n",
        "    if i>1500 and i<=2000:\n",
        "      if os.path.isfile(os.path.join(original_dataset_dir_P, entry)):\n",
        "        fname=entry\n",
        "        src = os.path.join(original_dataset_dir_P, fname)\n",
        "        dst = os.path.join(test_parasitized_dir, fname)\n",
        "        #print(src,dst)\n",
        "        shutil.copyfile(src, dst)"
      ],
      "execution_count": 0,
      "outputs": []
    },
    {
      "cell_type": "code",
      "metadata": {
        "id": "LGPZ-Ti6rtKq",
        "colab_type": "code",
        "colab": {
          "base_uri": "https://localhost:8080/",
          "height": 119
        },
        "outputId": "1aa4e807-327f-4050-8ce9-75d131398a5e"
      },
      "source": [
        "print('total training uninfected images:', len(os.listdir(train_uninfected_dir)))\n",
        "print('total training parasitized images:', len(os.listdir(train_parasitized_dir)))\n",
        "print('total validation uninfected images:', len(os.listdir(validation_uninfected_dir)))\n",
        "print('total validation parasitized images:', len(os.listdir(validation_parasitized_dir)))\n",
        "print('total test uninfected images:', len(os.listdir(test_uninfected_dir)))\n",
        "print('total test parasitized images:', len(os.listdir(test_parasitized_dir)))"
      ],
      "execution_count": 15,
      "outputs": [
        {
          "output_type": "stream",
          "text": [
            "total training uninfected images: 1000\n",
            "total training parasitized images: 1000\n",
            "total validation uninfected images: 0\n",
            "total validation parasitized images: 500\n",
            "total test uninfected images: 500\n",
            "total test parasitized images: 500\n"
          ],
          "name": "stdout"
        }
      ]
    },
    {
      "cell_type": "markdown",
      "metadata": {
        "id": "yIPj6TnEusi_",
        "colab_type": "text"
      },
      "source": [
        "https://theailearner.com/2019/07/06/imagedatagenerator-flow_from_directory-method/\n",
        "\n",
        "flow_from_directory(directory, target_size=(256, 256), color_mode='rgb', classes=None, class_mode='categorical', batch_size=32, shuffle=True, seed=None, save_to_dir=None, save_prefix='', save_format='png', follow_links=False, subset=None, interpolation='nearest')\n",
        "\n",
        "Here, the directory is the path of the directory that contains the sub-directories of the respective classes. Each subdirectory is treated as a different class. The name of the class can either be inferred from the subdirectory name or can be passed using the “classes” argument. The labels to these classes are assigned alphanumerically.\n",
        "\n",
        "For instance, suppose you have a directory structure as shown below\n",
        "\n",
        "data/\n",
        "    train/\n",
        "        dogs/\n",
        "            dog001.jpg\n",
        "            dog002.jpg\n",
        "            ...\n",
        "        cats/\n",
        "            cat001.jpg\n",
        "            cat002.jpg\n",
        "            ...\n",
        "\n",
        "So, in this case, the directory will be the path to the train folder. If we set the “classes=None“, the class names will be inferred from the sub-directory names as “dogs” and “cats”. Because the labels are assigned alphanumerically, the labels for this will be {‘cats’: 0, ‘dogs’: 1}. If we have passed the argument classes=[‘Dog’,’Cat’], then the labels will be {‘Cat’: 0, ‘Dog’: 1}."
      ]
    },
    {
      "cell_type": "code",
      "metadata": {
        "id": "KN_83d-VspEw",
        "colab_type": "code",
        "colab": {
          "base_uri": "https://localhost:8080/",
          "height": 114
        },
        "outputId": "acd0ba9c-f30e-455b-a58f-29f5ef57c9ce"
      },
      "source": [
        "from keras.preprocessing.image import ImageDataGenerator\n",
        "\n",
        "train_datagen = ImageDataGenerator(rescale=1./255)\n",
        "test_datagen = ImageDataGenerator(rescale=1./255)\n",
        "\n",
        "train_generator = train_datagen.flow_from_directory(train_dir,\n",
        "                                                    target_size=(150, 150), \n",
        "                                                    batch_size=20,\n",
        "                                                    class_mode='binary')\n",
        "\n",
        "validation_generator = test_datagen.flow_from_directory(validation_dir,\n",
        "                                                        target_size=(150, 150),\n",
        "                                                        batch_size=20,\n",
        "                                                        class_mode='binary')"
      ],
      "execution_count": 16,
      "outputs": [
        {
          "output_type": "stream",
          "text": [
            "Using TensorFlow backend.\n"
          ],
          "name": "stderr"
        },
        {
          "output_type": "display_data",
          "data": {
            "text/html": [
              "<p style=\"color: red;\">\n",
              "The default version of TensorFlow in Colab will soon switch to TensorFlow 2.x.<br>\n",
              "We recommend you <a href=\"https://www.tensorflow.org/guide/migrate\" target=\"_blank\">upgrade</a> now \n",
              "or ensure your notebook will continue to use TensorFlow 1.x via the <code>%tensorflow_version 1.x</code> magic:\n",
              "<a href=\"https://colab.research.google.com/notebooks/tensorflow_version.ipynb\" target=\"_blank\">more info</a>.</p>\n"
            ],
            "text/plain": [
              "<IPython.core.display.HTML object>"
            ]
          },
          "metadata": {
            "tags": []
          }
        },
        {
          "output_type": "stream",
          "text": [
            "Found 2000 images belonging to 2 classes.\n",
            "Found 500 images belonging to 2 classes.\n"
          ],
          "name": "stdout"
        }
      ]
    },
    {
      "cell_type": "code",
      "metadata": {
        "id": "hlBYItcivJso",
        "colab_type": "code",
        "colab": {
          "base_uri": "https://localhost:8080/",
          "height": 683
        },
        "outputId": "66ba2ca8-5778-4fba-a5e8-d306aaf07bc4"
      },
      "source": [
        "\n",
        "from keras import layers\n",
        "from keras import models\n",
        "\n",
        "model = models.Sequential()\n",
        "model.add(layers.Conv2D(32, (3, 3), activation='relu', input_shape=(150, 150, 3)))\n",
        "model.add(layers.MaxPooling2D((2, 2)))\n",
        "model.add(layers.Conv2D(64, (3, 3), activation='relu'))\n",
        "model.add(layers.MaxPooling2D((2, 2)))\n",
        "model.add(layers.Conv2D(128, (3, 3), activation='relu'))\n",
        "model.add(layers.MaxPooling2D((2, 2)))\n",
        "model.add(layers.Conv2D(128, (3, 3), activation='relu'))\n",
        "model.add(layers.MaxPooling2D((2, 2)))\n",
        "model.add(layers.Flatten())\n",
        "model.add(layers.Dense(512, activation='relu'))\n",
        "model.add(layers.Dense(1, activation='sigmoid'))\n",
        "model.summary()\n"
      ],
      "execution_count": 17,
      "outputs": [
        {
          "output_type": "stream",
          "text": [
            "WARNING:tensorflow:From /usr/local/lib/python3.6/dist-packages/keras/backend/tensorflow_backend.py:66: The name tf.get_default_graph is deprecated. Please use tf.compat.v1.get_default_graph instead.\n",
            "\n",
            "WARNING:tensorflow:From /usr/local/lib/python3.6/dist-packages/keras/backend/tensorflow_backend.py:541: The name tf.placeholder is deprecated. Please use tf.compat.v1.placeholder instead.\n",
            "\n",
            "WARNING:tensorflow:From /usr/local/lib/python3.6/dist-packages/keras/backend/tensorflow_backend.py:4432: The name tf.random_uniform is deprecated. Please use tf.random.uniform instead.\n",
            "\n",
            "WARNING:tensorflow:From /usr/local/lib/python3.6/dist-packages/keras/backend/tensorflow_backend.py:4267: The name tf.nn.max_pool is deprecated. Please use tf.nn.max_pool2d instead.\n",
            "\n",
            "Model: \"sequential_1\"\n",
            "_________________________________________________________________\n",
            "Layer (type)                 Output Shape              Param #   \n",
            "=================================================================\n",
            "conv2d_1 (Conv2D)            (None, 148, 148, 32)      896       \n",
            "_________________________________________________________________\n",
            "max_pooling2d_1 (MaxPooling2 (None, 74, 74, 32)        0         \n",
            "_________________________________________________________________\n",
            "conv2d_2 (Conv2D)            (None, 72, 72, 64)        18496     \n",
            "_________________________________________________________________\n",
            "max_pooling2d_2 (MaxPooling2 (None, 36, 36, 64)        0         \n",
            "_________________________________________________________________\n",
            "conv2d_3 (Conv2D)            (None, 34, 34, 128)       73856     \n",
            "_________________________________________________________________\n",
            "max_pooling2d_3 (MaxPooling2 (None, 17, 17, 128)       0         \n",
            "_________________________________________________________________\n",
            "conv2d_4 (Conv2D)            (None, 15, 15, 128)       147584    \n",
            "_________________________________________________________________\n",
            "max_pooling2d_4 (MaxPooling2 (None, 7, 7, 128)         0         \n",
            "_________________________________________________________________\n",
            "flatten_1 (Flatten)          (None, 6272)              0         \n",
            "_________________________________________________________________\n",
            "dense_1 (Dense)              (None, 512)               3211776   \n",
            "_________________________________________________________________\n",
            "dense_2 (Dense)              (None, 1)                 513       \n",
            "=================================================================\n",
            "Total params: 3,453,121\n",
            "Trainable params: 3,453,121\n",
            "Non-trainable params: 0\n",
            "_________________________________________________________________\n"
          ],
          "name": "stdout"
        }
      ]
    },
    {
      "cell_type": "code",
      "metadata": {
        "id": "zwegSjcZvYA8",
        "colab_type": "code",
        "colab": {
          "base_uri": "https://localhost:8080/",
          "height": 156
        },
        "outputId": "8e1a5920-d60f-4e9f-d380-abd23225c15d"
      },
      "source": [
        "\n",
        "from keras import optimizers\n",
        "model.compile(loss='binary_crossentropy', \n",
        "              optimizer=optimizers.RMSprop(lr=1e-4),\n",
        "              metrics=['acc'])"
      ],
      "execution_count": 18,
      "outputs": [
        {
          "output_type": "stream",
          "text": [
            "WARNING:tensorflow:From /usr/local/lib/python3.6/dist-packages/keras/optimizers.py:793: The name tf.train.Optimizer is deprecated. Please use tf.compat.v1.train.Optimizer instead.\n",
            "\n",
            "WARNING:tensorflow:From /usr/local/lib/python3.6/dist-packages/keras/backend/tensorflow_backend.py:3657: The name tf.log is deprecated. Please use tf.math.log instead.\n",
            "\n",
            "WARNING:tensorflow:From /tensorflow-1.15.0/python3.6/tensorflow_core/python/ops/nn_impl.py:183: where (from tensorflow.python.ops.array_ops) is deprecated and will be removed in a future version.\n",
            "Instructions for updating:\n",
            "Use tf.where in 2.0, which has the same broadcast rule as np.where\n"
          ],
          "name": "stdout"
        }
      ]
    },
    {
      "cell_type": "code",
      "metadata": {
        "id": "TcFNtrUsvgik",
        "colab_type": "code",
        "colab": {}
      },
      "source": [
        "history = model.fit_generator(train_generator,\n",
        "                              steps_per_epoch=100,\n",
        "                              epochs=30,\n",
        "                              validation_data=validation_generator,\n",
        "                              validation_steps=10)"
      ],
      "execution_count": 0,
      "outputs": []
    }
  ]
}