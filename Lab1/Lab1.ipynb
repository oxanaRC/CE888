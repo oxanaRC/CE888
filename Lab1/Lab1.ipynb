{
  "nbformat": 4,
  "nbformat_minor": 0,
  "metadata": {
    "colab": {
      "name": "Untitled1.ipynb",
      "provenance": [],
      "collapsed_sections": [],
      "authorship_tag": "ABX9TyP21Vlkf2B8+3+wEv7TsHNI",
      "include_colab_link": true
    },
    "kernelspec": {
      "name": "python3",
      "display_name": "Python 3"
    }
  },
  "cells": [
    {
      "cell_type": "markdown",
      "metadata": {
        "id": "view-in-github",
        "colab_type": "text"
      },
      "source": [
        "<a href=\"https://colab.research.google.com/github/oxanaRC/CE888/blob/master/Lab1/Lab1.ipynb\" target=\"_parent\"><img src=\"https://colab.research.google.com/assets/colab-badge.svg\" alt=\"Open In Colab\"/></a>"
      ]
    },
    {
      "cell_type": "code",
      "metadata": {
        "id": "etIGO91A6fn1",
        "colab_type": "code",
        "outputId": "60c97f58-c2cc-43c3-dc11-8ea0561f89fc",
        "colab": {
          "base_uri": "https://localhost:8080/",
          "height": 51
        }
      },
      "source": [
        "#lab1\n",
        "#q1\n",
        "import numpy as np\n",
        "myArray=np.array([[1,2,3,4],[5,6,7,8]])\n",
        "print(myArray)"
      ],
      "execution_count": 2,
      "outputs": [
        {
          "output_type": "stream",
          "text": [
            "[[1 2 3 4]\n",
            " [5 6 7 8]]\n"
          ],
          "name": "stdout"
        }
      ]
    },
    {
      "cell_type": "code",
      "metadata": {
        "id": "1BNsYmRp9OEu",
        "colab_type": "code",
        "outputId": "4ae0a28f-5c70-4bf1-d36a-4a477d9ddd5b",
        "colab": {
          "base_uri": "https://localhost:8080/",
          "height": 68
        }
      },
      "source": [
        "#q2\n",
        "myArray2=np.array([[0,1,2,3,4,6,7,4,8,5]])\n",
        "print(myArray2.shape)\n",
        "myArray2Sort1=np.sort(myArray2)\n",
        "print(myArray2Sort1)\n",
        "myArray2Sort2=myArray2Sort1[:,::-1]\n",
        "print(myArray2Sort2)"
      ],
      "execution_count": 3,
      "outputs": [
        {
          "output_type": "stream",
          "text": [
            "(1, 10)\n",
            "[[0 1 2 3 4 4 5 6 7 8]]\n",
            "[[8 7 6 5 4 4 3 2 1 0]]\n"
          ],
          "name": "stdout"
        }
      ]
    },
    {
      "cell_type": "code",
      "metadata": {
        "id": "S2iAB8gBBr8X",
        "colab_type": "code",
        "outputId": "0c3de19e-6e5e-4169-e167-d55a9afcd4af",
        "colab": {
          "base_uri": "https://localhost:8080/",
          "height": 68
        }
      },
      "source": [
        "#q3\n",
        "myArray3=np.array([1,2,3,4,5,6,7,8,9])\n",
        "myArray3Reshaped=np.reshape(myArray3,(3,3))\n",
        "print(myArray3Reshaped)\n"
      ],
      "execution_count": 4,
      "outputs": [
        {
          "output_type": "stream",
          "text": [
            "[[1 2 3]\n",
            " [4 5 6]\n",
            " [7 8 9]]\n"
          ],
          "name": "stdout"
        }
      ]
    },
    {
      "cell_type": "code",
      "metadata": {
        "id": "eg83XU-1Cs4T",
        "colab_type": "code",
        "outputId": "537f8048-69ed-490b-803b-c3e5ecabfb68",
        "colab": {
          "base_uri": "https://localhost:8080/",
          "height": 119
        }
      },
      "source": [
        "#q4\n",
        "myArray41=np.array([1,2,3,4])\n",
        "myArray42=np.array([4,5,6,7])\n",
        "myArray4h=np.stack((myArray41,myArray42))\n",
        "print(myArray4h)\n",
        "myArray4v=np.stack((myArray41,myArray42),axis=-1)\n",
        "print(myArray4v)"
      ],
      "execution_count": 5,
      "outputs": [
        {
          "output_type": "stream",
          "text": [
            "[[1 2 3 4]\n",
            " [4 5 6 7]]\n",
            "[[1 4]\n",
            " [2 5]\n",
            " [3 6]\n",
            " [4 7]]\n"
          ],
          "name": "stdout"
        }
      ]
    },
    {
      "cell_type": "code",
      "metadata": {
        "id": "Irl7iZCDEYSH",
        "colab_type": "code",
        "outputId": "271d1c15-4cad-4a72-ca20-059e58ee7c94",
        "colab": {
          "base_uri": "https://localhost:8080/",
          "height": 34
        }
      },
      "source": [
        "#q5\n",
        "myArray51=np.array([1,2,3,9,4,10])\n",
        "myArray52=np.array([4,5,6,9,10,7])\n",
        "myArray5c=np.intersect1d(myArray51,myArray52)\n",
        "print(myArray5c)\n",
        "\n"
      ],
      "execution_count": 6,
      "outputs": [
        {
          "output_type": "stream",
          "text": [
            "[ 4  9 10]\n"
          ],
          "name": "stdout"
        }
      ]
    },
    {
      "cell_type": "code",
      "metadata": {
        "id": "5TfZmYDKGDJ2",
        "colab_type": "code",
        "outputId": "0b195690-87a7-47c6-9e84-9b27c8ab122c",
        "colab": {
          "base_uri": "https://localhost:8080/",
          "height": 187
        }
      },
      "source": [
        "#q6\n",
        "myArray6=np.random.rand(5,5)\n",
        "print(myArray6)\n",
        "print(np.amax(myArray6))\n",
        "\n",
        "print(myArray6.min(axis=1))\n",
        "print(myArray6.max(axis=1))\n",
        "\n",
        "print(myArray6.min(axis=0))\n",
        "print(myArray6.max(axis=0))\n",
        "\n"
      ],
      "execution_count": 7,
      "outputs": [
        {
          "output_type": "stream",
          "text": [
            "[[0.49548783 0.50677499 0.42149506 0.47665644 0.13721725]\n",
            " [0.07739966 0.13024271 0.51361405 0.59390112 0.72316438]\n",
            " [0.69603494 0.96663574 0.67386494 0.32360006 0.43337774]\n",
            " [0.78619219 0.62143068 0.648362   0.16526043 0.22087714]\n",
            " [0.2357988  0.51303607 0.73852528 0.88408601 0.52509743]]\n",
            "0.9666357404679098\n",
            "[0.13721725 0.07739966 0.32360006 0.16526043 0.2357988 ]\n",
            "[0.50677499 0.72316438 0.96663574 0.78619219 0.88408601]\n",
            "[0.07739966 0.13024271 0.42149506 0.16526043 0.13721725]\n",
            "[0.78619219 0.96663574 0.73852528 0.88408601 0.72316438]\n"
          ],
          "name": "stdout"
        }
      ]
    },
    {
      "cell_type": "code",
      "metadata": {
        "id": "F5YUWmF0Kckf",
        "colab_type": "code",
        "outputId": "bb72d6fe-2710-499c-eeb4-7d40c945b59a",
        "colab": {
          "base_uri": "https://localhost:8080/",
          "height": 68
        }
      },
      "source": [
        "#q7\n",
        "myArray7=np.random.rand(100)\n",
        "print(np.mean(myArray7))\n",
        "print(np.median(myArray7))\n",
        "print(np.std(myArray7))\n"
      ],
      "execution_count": 8,
      "outputs": [
        {
          "output_type": "stream",
          "text": [
            "0.5045846167104918\n",
            "0.4751817070323822\n",
            "0.2946726659468264\n"
          ],
          "name": "stdout"
        }
      ]
    },
    {
      "cell_type": "code",
      "metadata": {
        "id": "C9DpLvkgMDu9",
        "colab_type": "code",
        "outputId": "ed95fa56-b07a-459a-d5fc-920494d54fc2",
        "colab": {
          "base_uri": "https://localhost:8080/",
          "height": 306
        }
      },
      "source": [
        "#q8\n",
        "myArray8=np.random.rand(5,5)\n",
        "print(myArray8)\n",
        "print(\"-------------\")\n",
        "print(np.linalg.norm(myArray8,axis=1,ord=2,keepdims=True))\n",
        "print(\"------------\")\n",
        "print(myArray8/np.linalg.norm(myArray8, ord=2, axis=1, keepdims=True))\n",
        "\n"
      ],
      "execution_count": 17,
      "outputs": [
        {
          "output_type": "stream",
          "text": [
            "[[0.66691736 0.5689136  0.68078825 0.29989021 0.60121979]\n",
            " [0.70119186 0.23786439 0.86777933 0.61267426 0.64242288]\n",
            " [0.11523502 0.53351876 0.56503104 0.43100901 0.76646737]\n",
            " [0.85112164 0.82229467 0.61438767 0.18440938 0.21689276]\n",
            " [0.98176102 0.03590538 0.73205776 0.27416939 0.09144111]]\n",
            "-------------\n",
            "[[1.29742571]\n",
            " [1.44546441]\n",
            " [1.17916176]\n",
            " [1.36348747]\n",
            " [1.25880212]]\n",
            "------------\n",
            "[[0.51403125 0.43849417 0.52472234 0.23114249 0.46339438]\n",
            " [0.48509797 0.16455915 0.60034638 0.4238598  0.44444047]\n",
            " [0.09772622 0.45245596 0.47918026 0.36552153 0.65001037]\n",
            " [0.62422403 0.60308194 0.45060016 0.13524831 0.15907206]\n",
            " [0.77991688 0.02852345 0.5815511  0.21780182 0.07264137]]\n"
          ],
          "name": "stdout"
        }
      ]
    },
    {
      "cell_type": "code",
      "metadata": {
        "id": "zSgVVssIQj7B",
        "colab_type": "code",
        "colab": {}
      },
      "source": [
        "#q9\n",
        "myArray91=np.random.rand(4,4,3)\n",
        "myArray92=np.random.rand(4,4)\n",
        "#to be finished\n",
        "#for i in range ()\n",
        "#print(len(myArray91))\n"
      ],
      "execution_count": 0,
      "outputs": []
    },
    {
      "cell_type": "markdown",
      "metadata": {
        "id": "6X-TO_KR1mjo",
        "colab_type": "text"
      },
      "source": [
        "## Questions to be done during the lab:\n",
        "\n",
        "1. Create a (4 x 2) integer array and print it's attributes\n",
        "\n",
        "2. Create an array of dimension (1,10) and sort it in ascending and descending order\n",
        "\n",
        "3. Convert an 1D array [1 2 3 4 5 6 7 8 9] to 2D array [[1 2 3], [4 5 6], [7 8 9]]\n",
        "\n",
        "4. Stack two arrays of any size horizontally and vertically\n",
        "\n",
        "5. Create two array of same size and find commom elements\n",
        "\n",
        "6. Create a 2D array of 5 by 5 and find the min and max values from each row and each column\n",
        "\n",
        "7. Create an array of size 100 and  compute the mean, median, standard deviation. \n",
        "\n",
        "8. Normalize a 5x5 random matrix \n",
        "\n",
        "9. Consider an array of dimension (4,4,3), how to mulitply it by an array with dimensions (4,4)?\n",
        "\n"
      ]
    }
  ]
}