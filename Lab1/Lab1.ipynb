{
  "nbformat": 4,
  "nbformat_minor": 0,
  "metadata": {
    "colab": {
      "name": "Untitled1.ipynb",
      "provenance": [],
      "collapsed_sections": [],
      "authorship_tag": "ABX9TyOCd0nSwsBswgkgfpv6HhrI",
      "include_colab_link": true
    },
    "kernelspec": {
      "name": "python3",
      "display_name": "Python 3"
    }
  },
  "cells": [
    {
      "cell_type": "markdown",
      "metadata": {
        "id": "view-in-github",
        "colab_type": "text"
      },
      "source": [
        "<a href=\"https://colab.research.google.com/github/oxanaRC/CE888/blob/master/Lab1/Lab1.ipynb\" target=\"_parent\"><img src=\"https://colab.research.google.com/assets/colab-badge.svg\" alt=\"Open In Colab\"/></a>"
      ]
    },
    {
      "cell_type": "code",
      "metadata": {
        "id": "etIGO91A6fn1",
        "colab_type": "code",
        "colab": {
          "base_uri": "https://localhost:8080/",
          "height": 51
        },
        "outputId": "5f569838-1fa3-457e-fd3c-51a89060cb56"
      },
      "source": [
        "#lab1\n",
        "#q1\n",
        "import numpy as np\n",
        "myArray=np.array([[1,2,3,4],[5,6,7,8]])\n",
        "print(myArray)"
      ],
      "execution_count": 2,
      "outputs": [
        {
          "output_type": "stream",
          "text": [
            "[[1 2 3 4]\n",
            " [5 6 7 8]]\n"
          ],
          "name": "stdout"
        }
      ]
    },
    {
      "cell_type": "code",
      "metadata": {
        "id": "1BNsYmRp9OEu",
        "colab_type": "code",
        "colab": {
          "base_uri": "https://localhost:8080/",
          "height": 68
        },
        "outputId": "0cd46a50-9b12-4d83-8cff-43e2ec080473"
      },
      "source": [
        "#q2\n",
        "myArray2=np.array([[0,1,2,3,4,6,7,4,8,5]])\n",
        "print(myArray2.shape)\n",
        "myArray2Sort1=np.sort(myArray2)\n",
        "print(myArray2Sort1)\n",
        "myArray2Sort2=myArray2Sort1[:,::-1]\n",
        "print(myArray2Sort2)"
      ],
      "execution_count": 21,
      "outputs": [
        {
          "output_type": "stream",
          "text": [
            "(1, 10)\n",
            "[[0 1 2 3 4 4 5 6 7 8]]\n",
            "[[8 7 6 5 4 4 3 2 1 0]]\n"
          ],
          "name": "stdout"
        }
      ]
    },
    {
      "cell_type": "code",
      "metadata": {
        "id": "S2iAB8gBBr8X",
        "colab_type": "code",
        "colab": {
          "base_uri": "https://localhost:8080/",
          "height": 68
        },
        "outputId": "5248abfd-712b-490c-905b-3196fb16bb72"
      },
      "source": [
        "#q3\n",
        "myArray3=np.array([1,2,3,4,5,6,7,8,9])\n",
        "myArray3Reshaped=np.reshape(myArray3,(3,3))\n",
        "print(myArray3Reshaped)\n"
      ],
      "execution_count": 24,
      "outputs": [
        {
          "output_type": "stream",
          "text": [
            "[[1 2 3]\n",
            " [4 5 6]\n",
            " [7 8 9]]\n"
          ],
          "name": "stdout"
        }
      ]
    },
    {
      "cell_type": "code",
      "metadata": {
        "id": "eg83XU-1Cs4T",
        "colab_type": "code",
        "colab": {
          "base_uri": "https://localhost:8080/",
          "height": 119
        },
        "outputId": "3b358278-be13-48ee-83ee-915c82cf14a5"
      },
      "source": [
        "#q4\n",
        "myArray41=np.array([1,2,3,4])\n",
        "myArray42=np.array([4,5,6,7])\n",
        "myArray4h=np.stack((myArray41,myArray42))\n",
        "print(myArray4h)\n",
        "myArray4v=np.stack((myArray41,myArray42),axis=-1)\n",
        "print(myArray4v)"
      ],
      "execution_count": 26,
      "outputs": [
        {
          "output_type": "stream",
          "text": [
            "[[1 2 3 4]\n",
            " [4 5 6 7]]\n",
            "[[1 4]\n",
            " [2 5]\n",
            " [3 6]\n",
            " [4 7]]\n"
          ],
          "name": "stdout"
        }
      ]
    },
    {
      "cell_type": "code",
      "metadata": {
        "id": "Irl7iZCDEYSH",
        "colab_type": "code",
        "colab": {
          "base_uri": "https://localhost:8080/",
          "height": 34
        },
        "outputId": "72b12fdd-0b61-4847-bac8-cf10185399cb"
      },
      "source": [
        "#q5\n",
        "myArray51=np.array([1,2,3,9,4,10])\n",
        "myArray52=np.array([4,5,6,9,10,7])\n",
        "myArray5c=np.intersect1d(myArray51,myArray52)\n",
        "print(myArray5c)\n",
        "\n"
      ],
      "execution_count": 31,
      "outputs": [
        {
          "output_type": "stream",
          "text": [
            "[ 4  9 10]\n"
          ],
          "name": "stdout"
        }
      ]
    },
    {
      "cell_type": "code",
      "metadata": {
        "id": "5TfZmYDKGDJ2",
        "colab_type": "code",
        "colab": {
          "base_uri": "https://localhost:8080/",
          "height": 187
        },
        "outputId": "4cac2089-af49-409b-8e0b-ac02c6423568"
      },
      "source": [
        "#q6\n",
        "myArray6=np.random.rand(5,5)\n",
        "print(myArray6)\n",
        "print(np.amax(myArray6))\n",
        "\n",
        "print(myArray6.min(axis=1))\n",
        "print(myArray6.max(axis=1))\n",
        "\n",
        "print(myArray6.min(axis=0))\n",
        "print(myArray6.max(axis=0))\n",
        "\n"
      ],
      "execution_count": 38,
      "outputs": [
        {
          "output_type": "stream",
          "text": [
            "[[0.20995715 0.29384096 0.32893203 0.26657386 0.01587098]\n",
            " [0.12033257 0.9259902  0.81957442 0.01730133 0.71530031]\n",
            " [0.90583045 0.2279189  0.63899677 0.38408879 0.01617929]\n",
            " [0.5087062  0.76150745 0.32880596 0.64554311 0.37713249]\n",
            " [0.68947814 0.13337468 0.36362289 0.78213621 0.72764585]]\n",
            "0.9259902036478177\n",
            "[0.01587098 0.01730133 0.01617929 0.32880596 0.13337468]\n",
            "[0.32893203 0.9259902  0.90583045 0.76150745 0.78213621]\n",
            "[0.12033257 0.13337468 0.32880596 0.01730133 0.01587098]\n",
            "[0.90583045 0.9259902  0.81957442 0.78213621 0.72764585]\n"
          ],
          "name": "stdout"
        }
      ]
    },
    {
      "cell_type": "markdown",
      "metadata": {
        "id": "6X-TO_KR1mjo",
        "colab_type": "text"
      },
      "source": [
        "## Questions to be done during the lab:\n",
        "\n",
        "1. Create a (4 x 2) integer array and print it's attributes\n",
        "\n",
        "2. Create an array of dimension (1,10) and sort it in ascending and descending order\n",
        "\n",
        "3. Convert an 1D array [1 2 3 4 5 6 7 8 9] to 2D array [[1 2 3], [4 5 6], [7 8 9]]\n",
        "\n",
        "4. Stack two arrays of any size horizontally and vertically\n",
        "\n",
        "5. Create two array of same size and find commom elements\n",
        "\n",
        "6. Create a 2D array of 5 by 5 and find the min and max values from each row and each column\n",
        "\n",
        "7. Create an array of size 100 and  compute the mean, median, standard deviation. \n",
        "\n",
        "8. Normalize a 5x5 random matrix \n",
        "\n",
        "9. Consider an array of dimension (4,4,3), how to mulitply it by an array with dimensions (4,4)?\n",
        "\n"
      ]
    }
  ]
}