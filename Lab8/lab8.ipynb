{
  "nbformat": 4,
  "nbformat_minor": 0,
  "metadata": {
    "colab": {
      "name": "Untitled13.ipynb",
      "provenance": [],
      "authorship_tag": "ABX9TyMDxyW4lxKSjCMS0eOO3UEU",
      "include_colab_link": true
    },
    "kernelspec": {
      "name": "python3",
      "display_name": "Python 3"
    },
    "accelerator": "GPU"
  },
  "cells": [
    {
      "cell_type": "markdown",
      "metadata": {
        "id": "view-in-github",
        "colab_type": "text"
      },
      "source": [
        "<a href=\"https://colab.research.google.com/github/oxanaRC/CE888/blob/master/Lab8/lab8.ipynb\" target=\"_parent\"><img src=\"https://colab.research.google.com/assets/colab-badge.svg\" alt=\"Open In Colab\"/></a>"
      ]
    },
    {
      "cell_type": "code",
      "metadata": {
        "id": "WFVb0K5cQmu1",
        "colab_type": "code",
        "outputId": "38222993-0cf0-4c20-a6eb-3513608c81de",
        "colab": {
          "base_uri": "https://localhost:8080/",
          "height": 201
        }
      },
      "source": [
        "import os\n",
        "os.environ['KAGGLE_USERNAME'] = \"oxanac\" # username from the json file\n",
        "os.environ['KAGGLE_KEY'] = \"11d1f8cbc5a5b45dde49550807b03b8a\" # key from the json file\n",
        "!kaggle competitions download -c dogs-vs-cats # api copied from kaggle"
      ],
      "execution_count": 0,
      "outputs": [
        {
          "output_type": "stream",
          "text": [
            "Warning: Looks like you're using an outdated API Version, please consider updating (server 1.5.6 / client 1.5.4)\n",
            "Downloading sampleSubmission.csv to /content\n",
            "  0% 0.00/86.8k [00:00<?, ?B/s]\n",
            "100% 86.8k/86.8k [00:00<00:00, 33.0MB/s]\n",
            "Downloading train.zip to /content\n",
            " 97% 526M/543M [00:03<00:00, 115MB/s] \n",
            "100% 543M/543M [00:04<00:00, 142MB/s]\n",
            "Downloading test1.zip to /content\n",
            " 97% 263M/271M [00:02<00:00, 141MB/s]\n",
            "100% 271M/271M [00:02<00:00, 131MB/s]\n"
          ],
          "name": "stdout"
        }
      ]
    }
  ]
}