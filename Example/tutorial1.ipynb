{
  "nbformat": 4,
  "nbformat_minor": 0,
  "metadata": {
    "colab": {
      "name": "tutorial1.ipynb",
      "provenance": [],
      "authorship_tag": "ABX9TyMqhtHuJrS2z5QYdIcpL8cy",
      "include_colab_link": true
    },
    "kernelspec": {
      "name": "python3",
      "display_name": "Python 3"
    },
    "accelerator": "GPU"
  },
  "cells": [
    {
      "cell_type": "markdown",
      "metadata": {
        "id": "view-in-github",
        "colab_type": "text"
      },
      "source": [
        "<a href=\"https://colab.research.google.com/github/oxanaRC/CE888/blob/master/Example/tutorial1.ipynb\" target=\"_parent\"><img src=\"https://colab.research.google.com/assets/colab-badge.svg\" alt=\"Open In Colab\"/></a>"
      ]
    },
    {
      "cell_type": "markdown",
      "metadata": {
        "id": "jGNROF0jxF5x",
        "colab_type": "text"
      },
      "source": [
        " Tutorial from https://machinelearningmastery.com/how-to-load-and-visualize-standard-computer-vision-datasets-with-keras/\n"
      ]
    },
    {
      "cell_type": "markdown",
      "metadata": {
        "id": "maSPictBxoVQ",
        "colab_type": "text"
      },
      "source": [
        "The datasets are available under the keras.datasets module via dataset-specific load functions.\n",
        "\n",
        "After a call to the load function, the dataset is downloaded to your workstation and stored in the ~/.keras directory under a “datasets” subdirectory. The datasets are stored in a compressed format, but may also include additional metadata.\n"
      ]
    },
    {
      "cell_type": "markdown",
      "metadata": {
        "id": "fLViYqeFx3vn",
        "colab_type": "text"
      },
      "source": [
        "The load functions return two tuples, the first containing the input and output elements for samples in the training dataset, and the second containing the input and output elements for samples in the test dataset. The splits between train and test datasets often follow a standard split, used when benchmarking algorithms on the dataset.\n",
        "\n",
        "The standard idiom for loading the datasets is as follows:\n",
        "\n",
        "...\n",
        "# load dataset\n",
        "(trainX, trainy), (testX, testy) = load_data()\n",
        "\n",
        "...\n",
        "# load dataset\n",
        "(trainX, trainy), (testX, testy) = load_data()\n"
      ]
    },
    {
      "cell_type": "markdown",
      "metadata": {
        "id": "3muqW3wjyg-R",
        "colab_type": "text"
      },
      "source": [
        "Each of the train and test X and y elements are NumPy arrays of pixel or class values respectively.\n",
        "\n",
        "Two of the datasets contain grayscale images and two contain color images. The shape of the grayscale images must be converted from two-dimensional to three-dimensional arrays to match the preferred channel ordering of Keras. For example:\n",
        "\n",
        "# reshape grayscale images to have a single channel\n",
        "width, height, channels = trainX.shape[1], trainX.shape[2], 1\n",
        "\n",
        "trainX = trainX.reshape((trainX.shape[0], width, height, channels))\n",
        "\n",
        "testX = testX.reshape((testX.shape[0], width, height, channels))\n",
        "\n",
        "# reshape grayscale images to have a single channel\n",
        "width, height, channels = trainX.shape[1], trainX.shape[2], 1\n",
        "\n",
        "trainX = trainX.reshape((trainX.shape[0], width, height, channels))\n",
        "\n",
        "testX = testX.reshape((testX.shape[0], width, height, channels))\n",
        "\n"
      ]
    },
    {
      "cell_type": "markdown",
      "metadata": {
        "id": "LDW-mx84zLQA",
        "colab_type": "text"
      },
      "source": [
        "Both grayscale and color image pixel data are stored as unsigned integer values with values between 0 and 255.\n",
        "\n",
        "Before modeling, the image data will need to be rescaled, e.g. such as normalization to the range 0-1 and perhaps further standardized. For example:\n",
        "\n",
        "# normalize pixel values\n",
        "trainX = trainX.astype('float32') / 255\n",
        "\n",
        "testX = testX.astype('float32') / 255\n",
        "\n",
        "\n",
        "# normalize pixel values\n",
        "trainX = trainX.astype('float32') / 255\n",
        "\n",
        "testX = testX.astype('float32') / 255\n"
      ]
    },
    {
      "cell_type": "markdown",
      "metadata": {
        "id": "dI6ZX0XrzgTt",
        "colab_type": "text"
      },
      "source": [
        "The output elements of each sample (y) are stored as class integer values. Each problem is a multi-class classification problem (more than two classes); as such, it is common practice to one hot encode the class values prior to modeling. This can be achieved using the to_categorical() function provided by Keras; for example:\n",
        "\n",
        "...\n",
        "# one hot encode target values\n",
        "trainy = to_categorical(trainy)\n",
        "\n",
        "testy = to_categorical(testy)\n",
        "\n",
        "...\n",
        "# one hot encode target values\n",
        "trainy = to_categorical(trainy)\n",
        "\n",
        "testy = to_categorical(testy)"
      ]
    },
    {
      "cell_type": "code",
      "metadata": {
        "id": "vgvwwb7MxNu3",
        "colab_type": "code",
        "colab": {}
      },
      "source": [
        ""
      ],
      "execution_count": 0,
      "outputs": []
    }
  ]
}