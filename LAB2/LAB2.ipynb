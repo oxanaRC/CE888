{
  "nbformat": 4,
  "nbformat_minor": 0,
  "metadata": {
    "colab": {
      "name": "Untitled2.ipynb",
      "provenance": [],
      "collapsed_sections": [],
      "authorship_tag": "ABX9TyNLoCDab4Vi/oUnMLLF2592",
      "include_colab_link": true
    },
    "kernelspec": {
      "name": "python3",
      "display_name": "Python 3"
    }
  },
  "cells": [
    {
      "cell_type": "markdown",
      "metadata": {
        "id": "view-in-github",
        "colab_type": "text"
      },
      "source": [
        "<a href=\"https://colab.research.google.com/github/oxanaRC/CE888/blob/master/LAB2/LAB2.ipynb\" target=\"_parent\"><img src=\"https://colab.research.google.com/assets/colab-badge.svg\" alt=\"Open In Colab\"/></a>"
      ]
    },
    {
      "cell_type": "code",
      "metadata": {
        "id": "rTyCyiaD1Th8",
        "colab_type": "code",
        "colab": {}
      },
      "source": [
        "\n",
        "import matplotlib\n",
        "import pandas as pd\n",
        "import seaborn as sns\n",
        "import numpy as np"
      ],
      "execution_count": 0,
      "outputs": []
    },
    {
      "cell_type": "code",
      "metadata": {
        "id": "KV0SQtoB1xRC",
        "colab_type": "code",
        "colab": {
          "base_uri": "https://localhost:8080/",
          "height": 255
        },
        "outputId": "2128fa88-7126-43c8-c18c-c02b10ef65ec"
      },
      "source": [
        "\n",
        "# Load the data\n",
        "df = pd.read_csv('https://raw.githubusercontent.com/albanda/CE888/master/lab2%20-%20bootstrap/customers.csv')\n",
        "data = df.values.T[1]\n",
        "#---my code-----------------------\n",
        "print(data)\n",
        "x1=np.random.choice(data,50, replace=True)\n",
        "x2=np.reshape(x1,(10,5))\n",
        "print(x2)\n",
        "mx=[]\n",
        "for i in range(10):\n",
        "  b1=x2[i,:]\n",
        "  m1=np.mean(b1)\n",
        "  mx=np.append(mx,m1)\n",
        "print(mx)\n",
        "mx2=np.percentile(mx,2.5)\n",
        "mx3=np.percentile(mx, 97.5)\n",
        "print(mx2)\n",
        "print(mx3)\n",
        "#----end of my code--------------------------------"
      ],
      "execution_count": 26,
      "outputs": [
        {
          "output_type": "stream",
          "text": [
            "[ 2.  8. 20. 13.  5.  9. 10.  8. 22. 10.  2.  4.  7.  9.]\n",
            "[[ 2.  9. 13.  9. 22.]\n",
            " [ 7.  8.  5.  2. 22.]\n",
            " [ 8.  4.  7. 20.  2.]\n",
            " [22. 10. 22.  8.  2.]\n",
            " [ 7.  5. 20. 20.  8.]\n",
            " [13.  9.  8.  9.  2.]\n",
            " [ 7. 22.  5.  7.  8.]\n",
            " [22. 10.  8. 22. 22.]\n",
            " [10. 13. 22.  4. 13.]\n",
            " [20.  2.  4.  4. 13.]]\n",
            "[11.   8.8  8.2 12.8 12.   8.2  9.8 16.8 12.4  8.6]\n",
            "8.2\n",
            "15.900000000000002\n"
          ],
          "name": "stdout"
        }
      ]
    },
    {
      "cell_type": "code",
      "metadata": {
        "id": "VQeFSpgm16gh",
        "colab_type": "code",
        "colab": {}
      },
      "source": [
        "\n",
        "# Checking the notes from the lecture, create here your own bootstrap function:\n",
        "# 1. Create an array of samples of shape (n_iterations, sample_size)\n",
        "# 2. Calculate and save the mean of the array (this is \"data_mean\" that is returned by the function)\n",
        "# 3. In each iteration:\n",
        "# 3.1 Get the data corresponding to that iteration (new_samples[iteration, :])\n",
        "# 3.2 Calculate the mean of the iteration data and store it\n",
        "# (At this point you should have an array of n_iterations values)\n",
        "# 4. Calculate the lower and upper bounds for a 95% CI (hint: check the percentile function on Numpy)\n",
        "# 5. Return data_mean, and the lower and upper bounds of your interval\n",
        "def boostrap_mean(sample, sample_size, n_iterations):\n",
        "  #<----my code------------------->\n",
        "  numnEl=sample_size * n_iterations\n",
        "  samplesArray=np.random.choice(sample,(n_iterations, sample_size), replace=True)\n",
        "  #samplesArray=np.reshape(xArray,(n_iterations,sample_size))\n",
        "  data_mean=np.mean(samplesArray)\n",
        "  myMeans=[]\n",
        "  for i in range (n_iterations):\n",
        "    abc=samplesArray[i,:]\n",
        "    m=np.mean(abc)\n",
        "    myMeans=np.append(myMeans,m)   \n",
        "  lower=np.percentile(myMeans,2.5)  \n",
        "  upper=np.percentile(myMeans,97.5)\n",
        "\t# <---end of my code--->\n",
        "  return data_mean, lower, upper"
      ],
      "execution_count": 0,
      "outputs": []
    },
    {
      "cell_type": "code",
      "metadata": {
        "id": "meOk51fT1_hL",
        "colab_type": "code",
        "colab": {
          "base_uri": "https://localhost:8080/",
          "height": 386
        },
        "outputId": "67a2eb25-f347-484f-d162-73eb9d8ccc0c"
      },
      "source": [
        "# Call your bootstrap function and plot the results\n",
        "\n",
        "boots = []\n",
        "#for i in range(100, 100000, 1000):\n",
        "for i in range(100,10000,1000):\n",
        "    boot = boostrap_mean(data, data.shape[0], i)\n",
        "    boots.append([i, boot[0], \"mean\"])\n",
        "    boots.append([i, boot[1], \"lower\"])\n",
        "    boots.append([i, boot[2], \"upper\"])\n",
        "\n",
        "df_boot = pd.DataFrame(boots, columns=['Boostrap Iterations', 'Mean', \"Value\"])\n",
        "sns_plot = sns.lmplot(df_boot.columns[0], df_boot.columns[1], data=df_boot, fit_reg=False, hue=\"Value\")\n",
        "\n",
        "sns_plot.axes[0, 0].set_ylim(0,)\n",
        "#sns_plot.axes[0, 0].set_xlim(0, 100000)\n",
        "sns_plot.axes[0, 0].set_xlim(0, 10000)\n",
        "\n",
        "#sns_plot.savefig(\"bootstrap_confidence.png\", bbox_inches='tight')\n",
        "#sns_plot.savefig(\"bootstrap_confidence.pdf\", bbox_inches='tight')"
      ],
      "execution_count": 48,
      "outputs": [
        {
          "output_type": "execute_result",
          "data": {
            "text/plain": [
              "(0, 10000)"
            ]
          },
          "metadata": {
            "tags": []
          },
          "execution_count": 48
        },
        {
          "output_type": "display_data",
          "data": {
            "image/png": "[encoded data removed]",
            "text/plain": [
              "<Figure size 425.125x360 with 1 Axes>"
            ]
          },
          "metadata": {
            "tags": []
          }
        }
      ]
    },
    {
      "cell_type": "markdown",
      "metadata": {
        "id": "GUWj2ITH2JYD",
        "colab_type": "text"
      },
      "source": [
        "Now, modify the bootstrap function so that you can pass your desired confidence interval as a parameter."
      ]
    },
    {
      "cell_type": "code",
      "metadata": {
        "id": "0TwtO2Ob2Phm",
        "colab_type": "code",
        "colab": {}
      },
      "source": [
        "\n",
        "def boostrap_mean_ci(sample, sample_size, iterations, ci):\n",
        "  #<----my code------------------->\n",
        "  numnEl=sample_size * iterations\n",
        "  xArray=np.random.choice(sample,numnEl, replace=True)\n",
        "  samplesArray=np.reshape(xArray,(iterations,sample_size))\n",
        "  data_mean=np.mean(samplesArray)\n",
        "  myMeans=[]\n",
        "  for i in range (iterations):\n",
        "    abc=samplesArray[i,:]\n",
        "    m=np.mean(abc)\n",
        "    myMeans=np.append(myMeans,m)  \n",
        "  par1=(100-ci)/2   \n",
        "  lower=np.percentile(myMeans,par1)  \n",
        "  upper=np.percentile(myMeans,(ci+par1))\n",
        "\t# <---end of my code--->\n",
        "  return data_mean, lower, upper"
      ],
      "execution_count": 0,
      "outputs": []
    },
    {
      "cell_type": "code",
      "metadata": {
        "id": "a5ABlj9h2U0-",
        "colab_type": "code",
        "colab": {
          "base_uri": "https://localhost:8080/",
          "height": 369
        },
        "outputId": "00ec4727-fd94-4e7b-84f8-ebd60a3d3279"
      },
      "source": [
        "\n",
        "boots = []\n",
        "#for i in range(100, 100000, 1000):\n",
        "for i in range(100, 10000, 1000):  \n",
        "    boot = boostrap_mean_ci(data, data.shape[0], i, 80)\n",
        "    boots.append([i, boot[0], \"mean\"])\n",
        "    boots.append([i, boot[1], \"lower\"])\n",
        "    boots.append([i, boot[2], \"upper\"])\n",
        "\n",
        "df_boot = pd.DataFrame(boots, columns=['Boostrap Iterations', 'Mean', \"Value\"])\n",
        "sns_plot = sns.lmplot(df_boot.columns[0], df_boot.columns[1], data=df_boot, fit_reg=False, hue=\"Value\")\n",
        "\n",
        "sns_plot.axes[0, 0].set_ylim(0,)\n",
        "sns_plot.axes[0, 0].set_xlim(0, 10000)\n",
        "#sns_plot.axes[0, 0].set_xlim(0, 100000)\n",
        "\n",
        "sns_plot.savefig(\"bootstrap_confidence_80.png\", bbox_inches='tight')\n",
        "sns_plot.savefig(\"bootstrap_confidence_80.pdf\", bbox_inches='tight')"
      ],
      "execution_count": 50,
      "outputs": [
        {
          "output_type": "display_data",
          "data": {
            "image/png": "[encoded data removed]",
            "text/plain": [
              "<Figure size 425.125x360 with 1 Axes>"
            ]
          },
          "metadata": {
            "tags": []
          }
        }
      ]
    },
    {
      "cell_type": "markdown",
      "metadata": {
        "id": "06ng1SZr2fKZ",
        "colab_type": "text"
      },
      "source": [
        "\n",
        "Vehicles dataset¶\n",
        "Now let's work on a different dataset. Load the vehicles.csv file and check the Moodle page for instructions on how to proceed"
      ]
    },
    {
      "cell_type": "code",
      "metadata": {
        "id": "G0qHzRbY2jux",
        "colab_type": "code",
        "colab": {
          "base_uri": "https://localhost:8080/",
          "height": 357
        },
        "outputId": "629e108b-ea4f-420b-cbea-fa3756523a89"
      },
      "source": [
        "# Load and visualise the vehicles dataset\n",
        "# <---INSERT YOUR CODE HERE--->\n",
        "dfv = pd.read_csv('https://raw.githubusercontent.com/albanda/CE888/master/lab2%20-%20bootstrap/vehicles.csv')\n",
        "dfv_c= dfv.values.T[0]\n",
        "print(dfv_c)\n",
        "print(\"---\")\n",
        "dfv_n=dfv.values.T[1]\n",
        "dfv_n = dfv_n[np.logical_not(np.isnan(dfv_n))]\n",
        "print(dfv_n)\n",
        "# Note: you can add more cells as needed to organise your code and your plots"
      ],
      "execution_count": 63,
      "outputs": [
        {
          "output_type": "stream",
          "text": [
            "[18. 15. 18. 16. 17. 15. 14. 14. 14. 15. 15. 14. 15. 14. 22. 18. 21. 21.\n",
            " 10. 10. 11.  9. 28. 25. 19. 16. 17. 19. 18. 14. 14. 14. 14. 12. 13. 13.\n",
            " 18. 22. 19. 18. 23. 26. 25. 20. 21. 13. 14. 15. 14. 17. 11. 13. 12. 13.\n",
            " 15. 13. 13. 14. 22. 28. 13. 14. 13. 14. 15. 12. 13. 13. 14. 13. 12. 13.\n",
            " 18. 16. 18. 18. 23. 11. 12. 13. 12. 18. 21. 19. 21. 15. 16. 15. 11. 20.\n",
            " 21. 19. 15. 26. 25. 16. 16. 18. 16. 13. 14. 14. 14. 28. 19. 18. 15. 15.\n",
            " 16. 15. 16. 14. 17. 16. 15. 18. 21. 20. 13. 23. 20. 23. 18. 19. 25. 26.\n",
            " 18. 16. 16. 15. 22. 22. 24. 23. 29. 25. 20. 18. 19. 18. 27. 13. 17. 13.\n",
            " 13. 13. 30. 26. 18. 17. 16. 15. 18. 21. 19. 19. 16. 16. 16. 16. 25. 26.\n",
            " 31. 34. 36. 20. 19. 20. 19. 21. 20. 25. 21. 19. 21. 21. 19. 18. 19. 18.\n",
            " 18. 18. 30. 31. 23. 24. 22. 20. 22. 20. 21. 17. 18. 17. 18. 17. 16. 19.\n",
            " 19. 36. 27. 23. 24. 34. 35. 28. 29. 27. 34. 32. 28. 26. 24. 19. 28. 24.\n",
            " 27. 27. 26. 24. 30. 39. 35. 34. 30. 22. 27. 20. 18. 28. 27. 34. 31. 29.\n",
            " 27. 24. 23. 38. 36. 25. 38. 26. 22. 36. 27. 27. 32. 28. 31.]\n",
            "---\n",
            "[24. 27. 27. 25. 31. 35. 24. 19. 28. 23. 27. 20. 22. 18. 20. 31. 32. 31.\n",
            " 32. 24. 26. 29. 24. 24. 33. 33. 32. 28. 19. 32. 34. 26. 30. 22. 22. 33.\n",
            " 39. 36. 28. 27. 21. 24. 30. 34. 32. 38. 37. 30. 31. 37. 32. 47. 41. 45.\n",
            " 34. 33. 24. 32. 39. 35. 32. 37. 38. 34. 34. 32. 33. 32. 25. 24. 37. 31.\n",
            " 36. 36. 34. 38. 32. 38. 32.]\n"
          ],
          "name": "stdout"
        }
      ]
    },
    {
      "cell_type": "code",
      "metadata": {
        "id": "L-k9-mfA2o8s",
        "colab_type": "code",
        "colab": {}
      },
      "source": [
        "\n",
        "# Compare the two fleets.\n",
        "# You can create a permutation test function to do this. Check the lecture notes!\n",
        "\n",
        "\n"
      ],
      "execution_count": 0,
      "outputs": []
    },
    {
      "cell_type": "code",
      "metadata": {
        "id": "C8-shw4kVRap",
        "colab_type": "code",
        "colab": {}
      },
      "source": [
        ""
      ],
      "execution_count": 0,
      "outputs": []
    }
  ]
}