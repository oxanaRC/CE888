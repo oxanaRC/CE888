{
  "nbformat": 4,
  "nbformat_minor": 0,
  "metadata": {
    "colab": {
      "name": "Untitled2.ipynb",
      "provenance": [],
      "collapsed_sections": [],
      "authorship_tag": "ABX9TyMyKFdxraVUqTv5QJ2LW+Sj",
      "include_colab_link": true
    },
    "kernelspec": {
      "name": "python3",
      "display_name": "Python 3"
    }
  },
  "cells": [
    {
      "cell_type": "markdown",
      "metadata": {
        "id": "view-in-github",
        "colab_type": "text"
      },
      "source": [
        "<a href=\"https://colab.research.google.com/github/oxanaRC/CE888/blob/master/LAB2/LAB2.ipynb\" target=\"_parent\"><img src=\"https://colab.research.google.com/assets/colab-badge.svg\" alt=\"Open In Colab\"/></a>"
      ]
    },
    {
      "cell_type": "code",
      "metadata": {
        "id": "rTyCyiaD1Th8",
        "colab_type": "code",
        "colab": {}
      },
      "source": [
        "\n",
        "import matplotlib\n",
        "import pandas as pd\n",
        "import seaborn as sns\n",
        "import numpy as np"
      ],
      "execution_count": 0,
      "outputs": []
    },
    {
      "cell_type": "code",
      "metadata": {
        "id": "KV0SQtoB1xRC",
        "colab_type": "code",
        "colab": {
          "base_uri": "https://localhost:8080/",
          "height": 255
        },
        "outputId": "2128fa88-7126-43c8-c18c-c02b10ef65ec"
      },
      "source": [
        "\n",
        "# Load the data\n",
        "df = pd.read_csv('https://raw.githubusercontent.com/albanda/CE888/master/lab2%20-%20bootstrap/customers.csv')\n",
        "data = df.values.T[1]\n",
        "print(data)\n",
        "x1=np.random.choice(data,50, replace=True)\n",
        "x2=np.reshape(x1,(10,5))\n",
        "print(x2)\n",
        "mx=[]\n",
        "for i in range(10):\n",
        "  b1=x2[i,:]\n",
        "  m1=np.mean(b1)\n",
        "  mx=np.append(mx,m1)\n",
        "print(mx)\n",
        "mx2=np.percentile(mx,2.5)\n",
        "mx3=np.percentile(mx, 97.5)\n",
        "print(mx2)\n",
        "print(mx3)"
      ],
      "execution_count": 26,
      "outputs": [
        {
          "output_type": "stream",
          "text": [
            "[ 2.  8. 20. 13.  5.  9. 10.  8. 22. 10.  2.  4.  7.  9.]\n",
            "[[ 2.  9. 13.  9. 22.]\n",
            " [ 7.  8.  5.  2. 22.]\n",
            " [ 8.  4.  7. 20.  2.]\n",
            " [22. 10. 22.  8.  2.]\n",
            " [ 7.  5. 20. 20.  8.]\n",
            " [13.  9.  8.  9.  2.]\n",
            " [ 7. 22.  5.  7.  8.]\n",
            " [22. 10.  8. 22. 22.]\n",
            " [10. 13. 22.  4. 13.]\n",
            " [20.  2.  4.  4. 13.]]\n",
            "[11.   8.8  8.2 12.8 12.   8.2  9.8 16.8 12.4  8.6]\n",
            "8.2\n",
            "15.900000000000002\n"
          ],
          "name": "stdout"
        }
      ]
    },
    {
      "cell_type": "code",
      "metadata": {
        "id": "VQeFSpgm16gh",
        "colab_type": "code",
        "colab": {}
      },
      "source": [
        "\n",
        "# Checking the notes from the lecture, create here your own bootstrap function:\n",
        "# 1. Create an array of samples of shape (n_iterations, sample_size)\n",
        "# 2. Calculate and save the mean of the array (this is \"data_mean\" that is returned by the function)\n",
        "# 3. In each iteration:\n",
        "# 3.1 Get the data corresponding to that iteration (new_samples[iteration, :])\n",
        "# 3.2 Calculate the mean of the iteration data and store it\n",
        "# (At this point you should have an array of n_iterations values)\n",
        "# 4. Calculate the lower and upper bounds for a 95% CI (hint: check the percentile function on Numpy)\n",
        "# 5. Return data_mean, and the lower and upper bounds of your interval\n",
        "def boostrap_mean(sample, sample_size, n_iterations):\n",
        "  #<----my code------------------->\n",
        "  numnEl=sample_size * n_iterations\n",
        "  xArray=np.random.choice(sample,numnEl, replace=True)\n",
        "  samplesArray=np.reshape(xArray,(n_iterations,sample_size))\n",
        "  data_mean=np.mean(samplesArray)\n",
        "  myMeans=[]\n",
        "  for i in range (n_iterations):\n",
        "    abc=samplesArray[i,:]\n",
        "    m=np.mean(abc)\n",
        "    myMeans=np.append(myMeans,m)   \n",
        "  lower=np.percentile(myMeans,2.5)  \n",
        "  upper=np.percentile(myMeans,97.5)\n",
        "\t# <---end of my code--->\n",
        "  return data_mean, lower, upper"
      ],
      "execution_count": 0,
      "outputs": []
    },
    {
      "cell_type": "code",
      "metadata": {
        "id": "meOk51fT1_hL",
        "colab_type": "code",
        "colab": {
          "base_uri": "https://localhost:8080/",
          "height": 386
        },
        "outputId": "bf843a0a-17fb-441f-d4ce-91f33d204fa0"
      },
      "source": [
        "# Call your bootstrap function and plot the results\n",
        "\n",
        "boots = []\n",
        "#for i in range(100, 100000, 1000):\n",
        "for i in range(100,10000,1000):\n",
        "    boot = boostrap_mean(data, data.shape[0], i)\n",
        "    boots.append([i, boot[0], \"mean\"])\n",
        "    boots.append([i, boot[1], \"lower\"])\n",
        "    boots.append([i, boot[2], \"upper\"])\n",
        "\n",
        "df_boot = pd.DataFrame(boots, columns=['Boostrap Iterations', 'Mean', \"Value\"])\n",
        "sns_plot = sns.lmplot(df_boot.columns[0], df_boot.columns[1], data=df_boot, fit_reg=False, hue=\"Value\")\n",
        "\n",
        "sns_plot.axes[0, 0].set_ylim(0,)\n",
        "#sns_plot.axes[0, 0].set_xlim(0, 100000)\n",
        "sns_plot.axes[0, 0].set_xlim(0, 10000)\n",
        "\n",
        "#sns_plot.savefig(\"bootstrap_confidence.png\", bbox_inches='tight')\n",
        "#sns_plot.savefig(\"bootstrap_confidence.pdf\", bbox_inches='tight')"
      ],
      "execution_count": 38,
      "outputs": [
        {
          "output_type": "execute_result",
          "data": {
            "text/plain": [
              "(0, 10000)"
            ]
          },
          "metadata": {
            "tags": []
          },
          "execution_count": 38
        },
        {
          "output_type": "display_data",
          "data": {
            "image/png": "[encoded data removed]",
            "text/plain": [
              "<Figure size 425.125x360 with 1 Axes>"
            ]
          },
          "metadata": {
            "tags": []
          }
        }
      ]
    },
    {
      "cell_type": "markdown",
      "metadata": {
        "id": "GUWj2ITH2JYD",
        "colab_type": "text"
      },
      "source": [
        "Now, modify the bootstrap function so that you can pass your desired confidence interval as a parameter."
      ]
    },
    {
      "cell_type": "code",
      "metadata": {
        "id": "0TwtO2Ob2Phm",
        "colab_type": "code",
        "colab": {}
      },
      "source": [
        "\n",
        "def boostrap_mean_ci(sample, sample_size, iterations, ci):\n",
        "  #<----my code------------------->\n",
        "  numnEl=sample_size * iterations\n",
        "  xArray=np.random.choice(sample,numnEl, replace=True)\n",
        "  samplesArray=np.reshape(xArray,(iterations,sample_size))\n",
        "  data_mean=np.mean(samplesArray)\n",
        "  myMeans=[]\n",
        "  for i in range (iterations):\n",
        "    abc=samplesArray[i,:]\n",
        "    m=np.mean(abc)\n",
        "    myMeans=np.append(myMeans,m)  \n",
        "  par1=(100-ci)/2   \n",
        "  lower=np.percentile(myMeans,par1)  \n",
        "  upper=np.percentile(myMeans,(ci+par1))\n",
        "\t# <---end of my code--->\n",
        "  return data_mean, lower, upper"
      ],
      "execution_count": 0,
      "outputs": []
    },
    {
      "cell_type": "code",
      "metadata": {
        "id": "a5ABlj9h2U0-",
        "colab_type": "code",
        "colab": {
          "base_uri": "https://localhost:8080/",
          "height": 369
        },
        "outputId": "d817d833-8ced-4d16-de3a-b2b5f9b3366f"
      },
      "source": [
        "\n",
        "boots = []\n",
        "#for i in range(100, 100000, 1000):\n",
        "for i in range(100, 10000, 1000):  \n",
        "    boot = boostrap_mean_ci(data, data.shape[0], i, 80)\n",
        "    boots.append([i, boot[0], \"mean\"])\n",
        "    boots.append([i, boot[1], \"lower\"])\n",
        "    boots.append([i, boot[2], \"upper\"])\n",
        "\n",
        "df_boot = pd.DataFrame(boots, columns=['Boostrap Iterations', 'Mean', \"Value\"])\n",
        "sns_plot = sns.lmplot(df_boot.columns[0], df_boot.columns[1], data=df_boot, fit_reg=False, hue=\"Value\")\n",
        "\n",
        "sns_plot.axes[0, 0].set_ylim(0,)\n",
        "sns_plot.axes[0, 0].set_xlim(0, 10000)\n",
        "#sns_plot.axes[0, 0].set_xlim(0, 100000)\n",
        "\n",
        "sns_plot.savefig(\"bootstrap_confidence_80.png\", bbox_inches='tight')\n",
        "sns_plot.savefig(\"bootstrap_confidence_80.pdf\", bbox_inches='tight')"
      ],
      "execution_count": 46,
      "outputs": [
        {
          "output_type": "display_data",
          "data": {
            "image/png": "[encoded data removed]",
            "text/plain": [
              "<Figure size 425.125x360 with 1 Axes>"
            ]
          },
          "metadata": {
            "tags": []
          }
        }
      ]
    },
    {
      "cell_type": "markdown",
      "metadata": {
        "id": "06ng1SZr2fKZ",
        "colab_type": "text"
      },
      "source": [
        "\n",
        "Vehicles dataset¶\n",
        "Now let's work on a different dataset. Load the vehicles.csv file and check the Moodle page for instructions on how to proceed"
      ]
    },
    {
      "cell_type": "code",
      "metadata": {
        "id": "G0qHzRbY2jux",
        "colab_type": "code",
        "colab": {}
      },
      "source": [
        "# Load and visualise the vehicles dataset\n",
        "# <---INSERT YOUR CODE HERE--->\n",
        "# Note: you can add more cells as needed to organise your code and your plots"
      ],
      "execution_count": 0,
      "outputs": []
    },
    {
      "cell_type": "code",
      "metadata": {
        "id": "L-k9-mfA2o8s",
        "colab_type": "code",
        "colab": {}
      },
      "source": [
        "\n",
        "# Compare the two fleets.\n",
        "# You can create a permutation test function to do this. Check the lecture notes!"
      ],
      "execution_count": 0,
      "outputs": []
    }
  ]
}