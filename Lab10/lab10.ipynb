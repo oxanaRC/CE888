{
  "nbformat": 4,
  "nbformat_minor": 0,
  "metadata": {
    "colab": {
      "name": "Untitled16.ipynb",
      "provenance": [],
      "authorship_tag": "ABX9TyNGBstGPZyr+54Na6ge2f6G",
      "include_colab_link": true
    },
    "kernelspec": {
      "name": "python3",
      "display_name": "Python 3"
    }
  },
  "cells": [
    {
      "cell_type": "markdown",
      "metadata": {
        "id": "view-in-github",
        "colab_type": "text"
      },
      "source": [
        "<a href=\"https://colab.research.google.com/github/oxanaRC/CE888/blob/master/Lab10/lab10.ipynb\" target=\"_parent\"><img src=\"https://colab.research.google.com/assets/colab-badge.svg\" alt=\"Open In Colab\"/></a>"
      ]
    },
    {
      "cell_type": "code",
      "metadata": {
        "id": "jQI1yF7ZNnTh",
        "colab_type": "code",
        "colab": {
          "base_uri": "https://localhost:8080/",
          "height": 119
        },
        "outputId": "83faeec1-e4fc-4aaa-c815-eb8f2d23dc18"
      },
      "source": [
        "!git clone https://github.com/Ajithvajrala23/CE888_Lab_ML_Deployment.git\n"
      ],
      "execution_count": 1,
      "outputs": [
        {
          "output_type": "stream",
          "text": [
            "Cloning into 'CE888_Lab_ML_Deployment'...\n",
            "remote: Enumerating objects: 4805, done.\u001b[K\n",
            "remote: Total 4805 (delta 0), reused 0 (delta 0), pack-reused 4805\u001b[K\n",
            "Receiving objects: 100% (4805/4805), 54.00 MiB | 22.61 MiB/s, done.\n",
            "Resolving deltas: 100% (363/363), done.\n",
            "Checking out files: 100% (4452/4452), done.\n"
          ],
          "name": "stdout"
        }
      ]
    },
    {
      "cell_type": "code",
      "metadata": {
        "id": "xOWK56mqN4X2",
        "colab_type": "code",
        "colab": {}
      },
      "source": [
        "import os\n"
      ],
      "execution_count": 0,
      "outputs": []
    }
  ]
}