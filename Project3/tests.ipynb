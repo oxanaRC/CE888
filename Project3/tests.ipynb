{
  "nbformat": 4,
  "nbformat_minor": 0,
  "metadata": {
    "colab": {
      "name": "project140420.ipynb",
      "provenance": [],
      "collapsed_sections": [],
      "authorship_tag": "ABX9TyM8TnEzgA3nKeO78EyxG6Qj",
      "include_colab_link": true
    },
    "kernelspec": {
      "name": "python3",
      "display_name": "Python 3"
    },
    "accelerator": "GPU"
  },
  "cells": [
    {
      "cell_type": "markdown",
      "metadata": {
        "id": "view-in-github",
        "colab_type": "text"
      },
      "source": [
        "<a href=\"https://colab.research.google.com/github/oxanaRC/CE888/blob/master/Project3/tests.ipynb\" target=\"_parent\"><img src=\"https://colab.research.google.com/assets/colab-badge.svg\" alt=\"Open In Colab\"/></a>"
      ]
    },
    {
      "cell_type": "code",
      "metadata": {
        "id": "QplLdZ6U2ycr",
        "colab_type": "code",
        "colab": {}
      },
      "source": [
        "# This is a very simple implementation of the UCT Monte Carlo Tree Search algorithm in Python 2.7.\n",
        "# The function UCT(rootstate, itermax, verbose = False) is towards the bottom of the code.\n",
        "# It aims to have the clearest and simplest possible code, and for the sake of clarity, the code\n",
        "# is orders of magnitude less efficient than it could be made, particularly by using a \n",
        "# state.GetRandomMove() or state.DoRandomRollout() function.\n",
        "# \n",
        "# Example GameState classes for Nim, OXO and Othello are included to give some idea of how you\n",
        "# can write your own GameState use UCT in your 2-player game. Change the game to be played in \n",
        "# the UCTPlayGame() function at the bottom of the code.\n",
        "# \n",
        "# Written by Peter Cowling, Ed Powley, Daniel Whitehouse (University of York, UK) September 2012.\n",
        "# \n",
        "# Licence is granted to freely use and distribute for any sensible/legal purpose so long as this comment\n",
        "# remains in any distributed code.\n",
        "# \n",
        "# For more information about Monte Carlo Tree Search check out our web site at www.mcts.ai\n",
        "#---------------------------------------------------------------------------------------------"
      ],
      "execution_count": 0,
      "outputs": []
    },
    {
      "cell_type": "code",
      "metadata": {
        "id": "QSNf7WpZ3QLS",
        "colab_type": "code",
        "colab": {}
      },
      "source": [
        "from math import *\n",
        "import random\n",
        "import numpy as np\n",
        "import csv\n",
        "import pandas as pd \n",
        "import pickle\n",
        "# to save the model \n",
        "filename = 'saved_model.sav'"
      ],
      "execution_count": 0,
      "outputs": []
    },
    {
      "cell_type": "code",
      "metadata": {
        "id": "g9Mq2lbt3UyO",
        "colab_type": "code",
        "colab": {}
      },
      "source": [
        "class GameState:\n",
        "    \"\"\" A state of the game, i.e. the game board. These are the only functions which are\n",
        "        absolutely necessary to implement UCT in any 2-player complete information deterministic \n",
        "        zero-sum game, although they can be enhanced and made quicker, for example by using a \n",
        "        GetRandomMove() function to generate a random move during rollout.\n",
        "        By convention the players are numbered 1 and 2.\n",
        "    \"\"\"\n",
        "    def __init__(self):\n",
        "            self.playerJustMoved = 2 # At the root pretend the player just moved is player 2 - player 1 has the first move\n",
        "\n",
        "        \n",
        "    def Clone(self):\n",
        "        \"\"\" Create a deep clone of this game state.\n",
        "        \"\"\"\n",
        "        st = GameState()\n",
        "        st.playerJustMoved = self.playerJustMoved\n",
        "        return st\n",
        "\n",
        "    def DoMove(self, move):\n",
        "        \"\"\" Update a state by carrying out the given move.\n",
        "            Must update playerJustMoved.\n",
        "        \"\"\"\n",
        "        self.playerJustMoved = 3 - self.playerJustMoved\n",
        "        \n",
        "    def GetMoves(self):\n",
        "        \"\"\" Get all possible moves from this state.\n",
        "        \"\"\"\n",
        "    \n",
        "    def GetResult(self, playerjm):\n",
        "        \"\"\" Get the game result from the viewpoint of playerjm. \n",
        "        \"\"\"\n",
        "\n",
        "    def __repr__(self):\n",
        "        \"\"\" Don't need this - but good style.\n",
        "        \"\"\"\n",
        "        pass\n",
        "\n",
        "\n",
        "class OXOState:\n",
        "    \"\"\" A state of the game, i.e. the game board.\n",
        "        Squares in the board are in this arrangement\n",
        "        012\n",
        "        345\n",
        "        678\n",
        "        where 0 = empty, 1 = player 1 (X), 2 = player 2 (O)\n",
        "    \"\"\"\n",
        "    def __init__(self):\n",
        "        self.playerJustMoved = 2 # At the root pretend the player just moved is p2 - p1 has the first move\n",
        "        self.board = [0,0,0,0,0,0,0,0,0] # 0 = empty, 1 = player 1, 2 = player 2\n",
        " \n",
        "        \n",
        "    def Clone(self):\n",
        "        \"\"\" Create a deep clone of this game state.\n",
        "        \"\"\"\n",
        "        st = OXOState()\n",
        "        st.playerJustMoved = self.playerJustMoved\n",
        "        st.board = self.board[:]\n",
        "        return st\n",
        "\n",
        "    def DoMove(self, move):\n",
        "        \"\"\" Update a state by carrying out the given move.\n",
        "            Must update playerToMove.\n",
        "        \"\"\"\n",
        "        assert move >= 0 and move <= 8 and move == int(move) and self.board[move] == 0\n",
        "        self.playerJustMoved = 3 - self.playerJustMoved\n",
        "        self.board[move] = self.playerJustMoved\n",
        "        \n",
        "    def GetMoves(self):\n",
        "        \"\"\" Get all possible moves from this state.\n",
        "        \"\"\"\n",
        "        return [i for i in range(9) if self.board[i] == 0]\n",
        "    \n",
        "    def GetResult(self, playerjm):\n",
        "        \"\"\" Get the game result from the viewpoint of playerjm. \n",
        "        \"\"\"\n",
        "        for (x,y,z) in [(0,1,2),(3,4,5),(6,7,8),(0,3,6),(1,4,7),(2,5,8),(0,4,8),(2,4,6)]:\n",
        "            if self.board[x] == self.board[y] == self.board[z]:\n",
        "                if self.board[x] == playerjm:\n",
        "                    return 1.0\n",
        "                else:\n",
        "                    return 0.0\n",
        "        if self.GetMoves() == []: return 0.5 # draw\n",
        "        return False # Should not be possible to get here\n",
        "\n",
        "    def __repr__(self):\n",
        "        s= \"\"\n",
        "        for i in range(9): \n",
        "            s += \".XO\"[self.board[i]]\n",
        "            if i % 3 == 2: s += \"\\n\"\n",
        "        return s\n",
        "    \n",
        "#----OC-170220-----\n",
        "    def getStateData(self):\n",
        "        myData =np.zeros([0,9], dtype=int)\n",
        "        for i in range(9):\n",
        "          myData = np.append(myData, self.board[i])\n",
        "        #myData_str = np.array2string(myData, separator=', ')\n",
        "        #myData_str=myData_str[1:-1] \n",
        "        #print (\" state of the board: \" + myData_str)\n",
        "        #return myData_str \n",
        "        return myData\n",
        "       \n",
        "class Node:\n",
        "    \"\"\" A node in the game tree. Note wins is always from the viewpoint of playerJustMoved.\n",
        "        Crashes if state not specified.\n",
        "    \"\"\"\n",
        "    def __init__(self, move = None, parent = None, state = None):\n",
        "        self.move = move # the move that got us to this node - \"None\" for the root node\n",
        "        self.parentNode = parent # \"None\" for the root node\n",
        "        self.childNodes = []\n",
        "        self.wins = 0\n",
        "        self.visits = 0\n",
        "        self.untriedMoves = state.GetMoves() # future child nodes\n",
        "        self.playerJustMoved = state.playerJustMoved # the only part of the state that the Node needs later\n",
        "        \n",
        "    def UCTSelectChild(self):\n",
        "        \"\"\" Use the UCB1 formula to select a child node. Often a constant UCTK is applied so we have\n",
        "            lambda c: c.wins/c.visits + UCTK * sqrt(2*log(self.visits)/c.visits to vary the amount of\n",
        "            exploration versus exploitation.\n",
        "        \"\"\"\n",
        "        s = sorted(self.childNodes, key = lambda c: c.wins/c.visits + sqrt(2*log(self.visits)/c.visits))[-1]\n",
        "        return s\n",
        "    \n",
        "    def AddChild(self, m, s):\n",
        "        \"\"\" Remove m from untriedMoves and add a new child node for this move.\n",
        "            Return the added child node\n",
        "        \"\"\"\n",
        "        n = Node(move = m, parent = self, state = s)\n",
        "        self.untriedMoves.remove(m)\n",
        "        self.childNodes.append(n)\n",
        "        return n\n",
        "    \n",
        "    def Update(self, result):\n",
        "        \"\"\" Update this node - one additional visit and result additional wins. result must be from the viewpoint of playerJustmoved.\n",
        "        \"\"\"\n",
        "        self.visits += 1\n",
        "        self.wins += result\n",
        "\n",
        "    def __repr__(self):\n",
        "        return \"[M:\" + str(self.move) + \" W/V:\" + str(self.wins) + \"/\" + str(self.visits) + \" U:\" + str(self.untriedMoves) + \"]\"\n",
        "\n",
        "    def TreeToString(self, indent):\n",
        "        s = self.IndentString(indent) + str(self)\n",
        "        for c in self.childNodes:\n",
        "             s += c.TreeToString(indent+1)\n",
        "        return s\n",
        "\n",
        "    def IndentString(self,indent):\n",
        "        s = \"\\n\"\n",
        "        for i in range (1,indent+1):\n",
        "            s += \"| \"\n",
        "        return s\n",
        "\n",
        "    def ChildrenToString(self):\n",
        "        s = \"\"\n",
        "        for c in self.childNodes:\n",
        "             s += str(c) + \"\\n\"\n",
        "        return s\n",
        "\n",
        "\n",
        "def UCT(rootstate, itermax, learned_classifier, verbose = False):\n",
        "    \"\"\" Conduct a UCT search for itermax iterations starting from rootstate.\n",
        "        Return the best move from the rootstate.\n",
        "        Assumes 2 alternating players (player 1 starts), with game results in the range [0.0, 1.0].\"\"\"\n",
        "\n",
        "    rootnode = Node(state = rootstate)\n",
        "\n",
        "    for i in range(itermax):\n",
        "        node = rootnode\n",
        "        state = rootstate.Clone()\n",
        "\n",
        "        # Select\n",
        "        while node.untriedMoves == [] and node.childNodes != []: # node is fully expanded and non-terminal\n",
        "            node = node.UCTSelectChild()\n",
        "            state.DoMove(node.move)\n",
        "\n",
        "        # Expand\n",
        "        if node.untriedMoves != []:  # if we can expand (i.e. state/node is non-terminal)\n",
        "            m = random.choice(node.untriedMoves) \n",
        "            state.DoMove(m)\n",
        "            node = node.AddChild(m, state)  # add child and descend tree\n",
        "\n",
        "        # Rollout - this can often be made orders of magnitude quicker using a state.GetRandomMove() function\n",
        "        while state.GetMoves() != []: # while state is non-terminal\n",
        "            #---OC 130420--changes-----------------------------------------------------------\n",
        "            if learned_classifier:\n",
        "              player_moved_data=np.array([state.playerJustMoved])\n",
        "              player_moved_data=player_moved_data.reshape((1, 1))\n",
        "              states_data=np.array([state.getStateData()])\n",
        "              states_data=states_data.reshape((1, -1))\n",
        "              #print('player_moved_data:')\n",
        "              #print(player_moved_data)\n",
        "              #print(player_moved_data.shape)\n",
        "              #print('------------')\n",
        "              #print('states_data:')\n",
        "              #print(states_data)\n",
        "              #print(states_data.shape)\n",
        "              #print('------------')\n",
        "              input_data=np.append(player_moved_data,states_data)\n",
        "              input_data=input_data.reshape((1, -1))\n",
        "              #print('input_data:')\n",
        "              #print(input_data)\n",
        "              #print(input_data.shape)\n",
        "              #print('------------')\n",
        "              my_model = pickle.load(open(filename, 'rb'))\n",
        "              recommended_move = loaded_model.predict(input_data)\n",
        "              #print (\"----------------recommended move: \" + str(recommended_move.item(0)) )\n",
        "              if state.board[recommended_move.item(0)] == 0:\n",
        "                 #print ('good recommended move, can have only these moves: ' + str(state.GetMoves()) )\n",
        "                 state.DoMove(recommended_move.item(0))\n",
        "              else:\n",
        "                 #print ('bad recommended move, can have only these moves: ' + str(state.GetMoves()) + 'go random instead')\n",
        "                 state.DoMove(random.choice(state.GetMoves())) \n",
        "            else: state.DoMove(random.choice(state.GetMoves()))\n",
        "\n",
        "        # Backpropagate\n",
        "        while node != None: # backpropagate from the expanded node and work back to the root node\n",
        "            node.Update(state.GetResult(node.playerJustMoved)) # state is terminal. Update node with result from POV of node.playerJustMoved\n",
        "            node = node.parentNode\n",
        "\n",
        "    # Output some information about the tree - can be omitted\n",
        "    if verbose: print(rootnode.TreeToString(0))\n",
        "    #else: #print(rootnode.ChildrenToString())#OC 130420 commented printing to reduce output\n",
        "\n",
        "    return sorted(rootnode.childNodes, key = lambda c: c.visits)[-1].move # return the move that was most visited"
      ],
      "execution_count": 0,
      "outputs": []
    },
    {
      "cell_type": "code",
      "metadata": {
        "id": "3hqERDzL3vuv",
        "colab_type": "code",
        "colab": {}
      },
      "source": [
        "def UCTPlayGame(numberOfGame,df,df2,classifier):\n",
        "    \"\"\" Play a sample game between two UCT players where each player gets a different number \n",
        "        of UCT iterations (= simulations = tree nodes).\n",
        "    \"\"\"\n",
        "    #------OC--130420----\n",
        "    game_outcome=0 # 0 is the draw, 1 if player 1 won, 2 if player 2 won\n",
        "    #--------------------\n",
        "    state = OXOState() # uncomment to play OXO\n",
        "    #------OC--100420-------------------------------------------\n",
        "    data_writer=csv.writer(df, delimiter='\\t',lineterminator='\\n',)\n",
        "    data_writer2=csv.writer(df2, delimiter='\\t',lineterminator='\\n',)\n",
        "    if numberOfGame==0:     \n",
        "       data_writer.writerow(['game_number, player_just_moved, cell0, cell1, cell2, cell3, cell4, cell5, cell6, cell7, cell8, best_move']) \n",
        "       data_writer2.writerow(['game_number, player_won'])\n",
        "    #-----------------------------------------------------------    \n",
        "    while state.GetMoves() != []:\n",
        "        #print(str(state)) #OC commented printing out to reduce output\n",
        "        if state.playerJustMoved == 1:         \n",
        "            m = UCT(rootstate=state, itermax=1000, learned_classifier=classifier, verbose=False)  # play with values for itermax and verbose = True\n",
        "        else:\n",
        "            m = UCT(rootstate=state, itermax=100,learned_classifier=classifier, verbose=False) #OC changing intermax to 1000 here would results in player 1 winning all the time\n",
        "        #print(\"Best Move: \" + str(m) + \"\\n\") #OC commented printing out to reduce output\n",
        "        #-----OC-170220-----\n",
        "        state_str = np.array2string(state.getStateData(), separator=', ')\n",
        "        state_str=state_str[1:-1]\n",
        "        #data_writer.writerow([numberOfGame]+[',']+[state.playerJustMoved]+[',']+[state.getStateData()]+[',']+[m]) \n",
        "        data_writer.writerow([numberOfGame]+[',']+[state.playerJustMoved]+[',']+[state_str]+[',']+[m])\n",
        "        #-------------------\n",
        "        state.DoMove(m)\n",
        "        if state.GetResult(state.playerJustMoved) != False:\n",
        "            #print(str(state)) #OC commented printing out to reduce output\n",
        "            break  \n",
        "    if state.GetResult(state.playerJustMoved) == 1.0:\n",
        "        #print(\"Player \" + str(state.playerJustMoved) + \" wins!\") #OC commented printing out to reduce output\n",
        "        #------OC--100420--to output number of the game and player who won---\n",
        "        data_writer2.writerow([numberOfGame]+[',']+[state.playerJustMoved]) \n",
        "        game_outcome=state.playerJustMoved\n",
        "    elif state.GetResult(state.playerJustMoved) == 0.0:\n",
        "        #print(\"Player \" + str(3 - state.playerJustMoved) + \" wins!\") #OC commented printing out to reduce output\n",
        "        #------OC--100420--to output number of the game and player who won---\n",
        "        data_writer2.writerow([numberOfGame]+[',']+[3-state.playerJustMoved]) \n",
        "        game_outcome=3-state.playerJustMoved\n",
        "    #else:\n",
        "        #print(\"Nobody wins!\") #OC commented printing out to reduce output\n",
        "    return game_outcome"
      ],
      "execution_count": 0,
      "outputs": []
    },
    {
      "cell_type": "code",
      "metadata": {
        "id": "aylEW2C634jW",
        "colab_type": "code",
        "outputId": "312dcc5b-6c81-4b24-8e8e-27ce76bfd1d4",
        "colab": {
          "base_uri": "https://localhost:8080/",
          "height": 51
        }
      },
      "source": [
        "if __name__ == \"__main__\":\n",
        "    \"\"\" Play a single game to the end using UCT for both players.\n",
        "\n",
        "    \"\"\"\n",
        "    #------OC--100420--iterating over a number of games variable and collecting data for each game---\n",
        "    n_games=500\n",
        "    n_player1wins=0\n",
        "    n_player2wins=0\n",
        "    n_draws=0\n",
        "    counter=0\n",
        "    n_games_random_classifier=0\n",
        "    n_games_learned_classifier=0\n",
        "    first_data_collection=True\n",
        "    with open('data_file.csv',mode='w') as data_file:\n",
        "       with open('data_filegames.csv',mode='w') as data_file2: \n",
        "         for gameNum in range(n_games):\n",
        "           counter=counter+1\n",
        "           if counter%10 ==0 or first_data_collection:\n",
        "              learned_classifier=False\n",
        "              n_games_random_classifier=n_games_random_classifier+1\n",
        "           else:\n",
        "              learned_classifier=True\n",
        "              n_games_learned_classifier=n_games_learned_classifier+1\n",
        "           a_game=UCTPlayGame(gameNum,data_file,data_file2, learned_classifier) \n",
        "           if a_game==1:\n",
        "             n_player1wins=n_player1wins+1\n",
        "           if a_game==2:\n",
        "             n_player2wins=n_player2wins+1  \n",
        "           if a_game==0:  \n",
        "             n_draws=n_draws+1\n",
        "    print(\"Total games played \" + str(n_games) + \". Number of draws:\" +str(n_draws) + \". Number of wins by player 1: \" + str(n_player1wins) + \". Number of wins by player 2: \" + str(n_player2wins) )   \n",
        "    print(\"Games played with learned classifier was \" + str(n_games_learned_classifier) + \". Games played with random classifier was \" + str(n_games_random_classifier))           \n",
        "    #---to do : train model and save the model---------------\n",
        "    #---to do : play the game accessing the model and getting he predicted move from the model--\n"
      ],
      "execution_count": 66,
      "outputs": [
        {
          "output_type": "stream",
          "text": [
            "Total games played 500. Number of draws:444. Number of wins by player 1: 29. Number of wins by player 2: 27\n",
            "Games played with learned classifier was 0. Games played with random classifier was 500\n"
          ],
          "name": "stdout"
        }
      ]
    },
    {
      "cell_type": "code",
      "metadata": {
        "id": "obmLEO5k7SLg",
        "colab_type": "code",
        "colab": {}
      },
      "source": [
        "df_states_and_moves = pd.read_csv(\"data_file.csv\")\n",
        "df_won_games = pd.read_csv(\"data_filegames.csv\")"
      ],
      "execution_count": 0,
      "outputs": []
    },
    {
      "cell_type": "code",
      "metadata": {
        "id": "xnOxG6meAmZ8",
        "colab_type": "code",
        "colab": {}
      },
      "source": [
        "df=pd.merge(df_won_games, df_states_and_moves)"
      ],
      "execution_count": 0,
      "outputs": []
    },
    {
      "cell_type": "code",
      "metadata": {
        "id": "YqZZDZ0ZAzDt",
        "colab_type": "code",
        "outputId": "75e808bc-30bc-48ec-bfd3-efc08da2c320",
        "colab": {
          "base_uri": "https://localhost:8080/",
          "height": 439
        }
      },
      "source": [
        "display(df)"
      ],
      "execution_count": 157,
      "outputs": [
        {
          "output_type": "display_data",
          "data": {
            "text/html": [
              "<div>\n",
              "<style scoped>\n",
              "    .dataframe tbody tr th:only-of-type {\n",
              "        vertical-align: middle;\n",
              "    }\n",
              "\n",
              "    .dataframe tbody tr th {\n",
              "        vertical-align: top;\n",
              "    }\n",
              "\n",
              "    .dataframe thead th {\n",
              "        text-align: right;\n",
              "    }\n",
              "</style>\n",
              "<table border=\"1\" class=\"dataframe\">\n",
              "  <thead>\n",
              "    <tr style=\"text-align: right;\">\n",
              "      <th></th>\n",
              "      <th>game_number</th>\n",
              "      <th>player_won</th>\n",
              "      <th>player_just_moved</th>\n",
              "      <th>cell0</th>\n",
              "      <th>cell1</th>\n",
              "      <th>cell2</th>\n",
              "      <th>cell3</th>\n",
              "      <th>cell4</th>\n",
              "      <th>cell5</th>\n",
              "      <th>cell6</th>\n",
              "      <th>cell7</th>\n",
              "      <th>cell8</th>\n",
              "      <th>best_move</th>\n",
              "    </tr>\n",
              "  </thead>\n",
              "  <tbody>\n",
              "    <tr>\n",
              "      <th>0</th>\n",
              "      <td>8</td>\n",
              "      <td>1</td>\n",
              "      <td>2</td>\n",
              "      <td>0</td>\n",
              "      <td>0</td>\n",
              "      <td>0</td>\n",
              "      <td>0</td>\n",
              "      <td>0</td>\n",
              "      <td>0</td>\n",
              "      <td>0</td>\n",
              "      <td>0</td>\n",
              "      <td>0</td>\n",
              "      <td>4</td>\n",
              "    </tr>\n",
              "    <tr>\n",
              "      <th>1</th>\n",
              "      <td>8</td>\n",
              "      <td>1</td>\n",
              "      <td>1</td>\n",
              "      <td>0</td>\n",
              "      <td>0</td>\n",
              "      <td>0</td>\n",
              "      <td>0</td>\n",
              "      <td>1</td>\n",
              "      <td>0</td>\n",
              "      <td>0</td>\n",
              "      <td>0</td>\n",
              "      <td>0</td>\n",
              "      <td>0</td>\n",
              "    </tr>\n",
              "    <tr>\n",
              "      <th>2</th>\n",
              "      <td>8</td>\n",
              "      <td>1</td>\n",
              "      <td>2</td>\n",
              "      <td>2</td>\n",
              "      <td>0</td>\n",
              "      <td>0</td>\n",
              "      <td>0</td>\n",
              "      <td>1</td>\n",
              "      <td>0</td>\n",
              "      <td>0</td>\n",
              "      <td>0</td>\n",
              "      <td>0</td>\n",
              "      <td>1</td>\n",
              "    </tr>\n",
              "    <tr>\n",
              "      <th>3</th>\n",
              "      <td>8</td>\n",
              "      <td>1</td>\n",
              "      <td>1</td>\n",
              "      <td>2</td>\n",
              "      <td>1</td>\n",
              "      <td>0</td>\n",
              "      <td>0</td>\n",
              "      <td>1</td>\n",
              "      <td>0</td>\n",
              "      <td>0</td>\n",
              "      <td>0</td>\n",
              "      <td>0</td>\n",
              "      <td>6</td>\n",
              "    </tr>\n",
              "    <tr>\n",
              "      <th>4</th>\n",
              "      <td>8</td>\n",
              "      <td>1</td>\n",
              "      <td>2</td>\n",
              "      <td>2</td>\n",
              "      <td>1</td>\n",
              "      <td>0</td>\n",
              "      <td>0</td>\n",
              "      <td>1</td>\n",
              "      <td>0</td>\n",
              "      <td>2</td>\n",
              "      <td>0</td>\n",
              "      <td>0</td>\n",
              "      <td>3</td>\n",
              "    </tr>\n",
              "    <tr>\n",
              "      <th>...</th>\n",
              "      <td>...</td>\n",
              "      <td>...</td>\n",
              "      <td>...</td>\n",
              "      <td>...</td>\n",
              "      <td>...</td>\n",
              "      <td>...</td>\n",
              "      <td>...</td>\n",
              "      <td>...</td>\n",
              "      <td>...</td>\n",
              "      <td>...</td>\n",
              "      <td>...</td>\n",
              "      <td>...</td>\n",
              "      <td>...</td>\n",
              "    </tr>\n",
              "    <tr>\n",
              "      <th>546</th>\n",
              "      <td>475</td>\n",
              "      <td>2</td>\n",
              "      <td>1</td>\n",
              "      <td>2</td>\n",
              "      <td>0</td>\n",
              "      <td>0</td>\n",
              "      <td>0</td>\n",
              "      <td>0</td>\n",
              "      <td>0</td>\n",
              "      <td>0</td>\n",
              "      <td>1</td>\n",
              "      <td>1</td>\n",
              "      <td>6</td>\n",
              "    </tr>\n",
              "    <tr>\n",
              "      <th>547</th>\n",
              "      <td>475</td>\n",
              "      <td>2</td>\n",
              "      <td>2</td>\n",
              "      <td>2</td>\n",
              "      <td>0</td>\n",
              "      <td>0</td>\n",
              "      <td>0</td>\n",
              "      <td>0</td>\n",
              "      <td>0</td>\n",
              "      <td>2</td>\n",
              "      <td>1</td>\n",
              "      <td>1</td>\n",
              "      <td>3</td>\n",
              "    </tr>\n",
              "    <tr>\n",
              "      <th>548</th>\n",
              "      <td>475</td>\n",
              "      <td>2</td>\n",
              "      <td>1</td>\n",
              "      <td>2</td>\n",
              "      <td>0</td>\n",
              "      <td>0</td>\n",
              "      <td>1</td>\n",
              "      <td>0</td>\n",
              "      <td>0</td>\n",
              "      <td>2</td>\n",
              "      <td>1</td>\n",
              "      <td>1</td>\n",
              "      <td>2</td>\n",
              "    </tr>\n",
              "    <tr>\n",
              "      <th>549</th>\n",
              "      <td>475</td>\n",
              "      <td>2</td>\n",
              "      <td>2</td>\n",
              "      <td>2</td>\n",
              "      <td>0</td>\n",
              "      <td>2</td>\n",
              "      <td>1</td>\n",
              "      <td>0</td>\n",
              "      <td>0</td>\n",
              "      <td>2</td>\n",
              "      <td>1</td>\n",
              "      <td>1</td>\n",
              "      <td>1</td>\n",
              "    </tr>\n",
              "    <tr>\n",
              "      <th>550</th>\n",
              "      <td>475</td>\n",
              "      <td>2</td>\n",
              "      <td>1</td>\n",
              "      <td>2</td>\n",
              "      <td>1</td>\n",
              "      <td>2</td>\n",
              "      <td>1</td>\n",
              "      <td>0</td>\n",
              "      <td>0</td>\n",
              "      <td>2</td>\n",
              "      <td>1</td>\n",
              "      <td>1</td>\n",
              "      <td>4</td>\n",
              "    </tr>\n",
              "  </tbody>\n",
              "</table>\n",
              "<p>551 rows × 13 columns</p>\n",
              "</div>"
            ],
            "text/plain": [
              "     game_number   player_won   player_just_moved  ...   cell7   cell8   best_move\n",
              "0              8            1                   2  ...       0       0           4\n",
              "1              8            1                   1  ...       0       0           0\n",
              "2              8            1                   2  ...       0       0           1\n",
              "3              8            1                   1  ...       0       0           6\n",
              "4              8            1                   2  ...       0       0           3\n",
              "..           ...          ...                 ...  ...     ...     ...         ...\n",
              "546          475            2                   1  ...       1       1           6\n",
              "547          475            2                   2  ...       1       1           3\n",
              "548          475            2                   1  ...       1       1           2\n",
              "549          475            2                   2  ...       1       1           1\n",
              "550          475            2                   1  ...       1       1           4\n",
              "\n",
              "[551 rows x 13 columns]"
            ]
          },
          "metadata": {
            "tags": []
          }
        }
      ]
    },
    {
      "cell_type": "code",
      "metadata": {
        "id": "GoU3mFcyBUPd",
        "colab_type": "code",
        "colab": {}
      },
      "source": [
        "df.to_csv('data_merged.csv')"
      ],
      "execution_count": 0,
      "outputs": []
    },
    {
      "cell_type": "code",
      "metadata": {
        "id": "LKsDKlcOEF8H",
        "colab_type": "code",
        "colab": {}
      },
      "source": [
        "from sklearn import preprocessing\n",
        "from sklearn.tree import DecisionTreeClassifier"
      ],
      "execution_count": 0,
      "outputs": []
    },
    {
      "cell_type": "code",
      "metadata": {
        "id": "9UHsbfHyEIzr",
        "colab_type": "code",
        "colab": {}
      },
      "source": [
        "dataset=np.loadtxt('data_merged.csv',delimiter=',',skiprows=1, dtype=int)\n",
        "#loading input data ('player just moved' and state of the cells ) columns into an array\n",
        "input_data=np.array(dataset[:,3:13], dtype=int)"
      ],
      "execution_count": 0,
      "outputs": []
    },
    {
      "cell_type": "code",
      "metadata": {
        "id": "Rt5stjQxF7Mq",
        "colab_type": "code",
        "outputId": "6ddee537-fe6c-43d8-df60-e88335255af2",
        "colab": {
          "base_uri": "https://localhost:8080/",
          "height": 34
        }
      },
      "source": [
        "input_data.shape"
      ],
      "execution_count": 161,
      "outputs": [
        {
          "output_type": "execute_result",
          "data": {
            "text/plain": [
              "(551, 10)"
            ]
          },
          "metadata": {
            "tags": []
          },
          "execution_count": 161
        }
      ]
    },
    {
      "cell_type": "code",
      "metadata": {
        "id": "noRxPHWOxXBP",
        "colab_type": "code",
        "outputId": "d57e6d74-4856-4c37-a533-38a40c9f7cd4",
        "colab": {
          "base_uri": "https://localhost:8080/",
          "height": 34
        }
      },
      "source": [
        "input_data.size\n",
        "input_data.shape[0]"
      ],
      "execution_count": 162,
      "outputs": [
        {
          "output_type": "execute_result",
          "data": {
            "text/plain": [
              "551"
            ]
          },
          "metadata": {
            "tags": []
          },
          "execution_count": 162
        }
      ]
    },
    {
      "cell_type": "code",
      "metadata": {
        "id": "kZ9CzW9aG0nK",
        "colab_type": "code",
        "outputId": "70df4033-6553-4ae6-a41b-2d0470c982ab",
        "colab": {
          "base_uri": "https://localhost:8080/",
          "height": 357
        }
      },
      "source": [
        "#checking the output: first column has to show the player who moved and other columns show the state of the board\n",
        "x=input_data[0:20,:]\n",
        "x"
      ],
      "execution_count": 163,
      "outputs": [
        {
          "output_type": "execute_result",
          "data": {
            "text/plain": [
              "array([[2, 0, 0, 0, 0, 0, 0, 0, 0, 0],\n",
              "       [1, 0, 0, 0, 0, 1, 0, 0, 0, 0],\n",
              "       [2, 2, 0, 0, 0, 1, 0, 0, 0, 0],\n",
              "       [1, 2, 1, 0, 0, 1, 0, 0, 0, 0],\n",
              "       [2, 2, 1, 0, 0, 1, 0, 2, 0, 0],\n",
              "       [1, 2, 1, 0, 1, 1, 0, 2, 0, 0],\n",
              "       [2, 2, 1, 0, 1, 1, 0, 2, 2, 0],\n",
              "       [2, 0, 0, 0, 0, 0, 0, 0, 0, 0],\n",
              "       [1, 0, 0, 0, 0, 1, 0, 0, 0, 0],\n",
              "       [2, 2, 0, 0, 0, 1, 0, 0, 0, 0],\n",
              "       [1, 2, 1, 0, 0, 1, 0, 0, 0, 0],\n",
              "       [2, 2, 1, 0, 2, 1, 0, 0, 0, 0],\n",
              "       [1, 2, 1, 0, 2, 1, 0, 1, 0, 0],\n",
              "       [2, 2, 1, 2, 2, 1, 0, 1, 0, 0],\n",
              "       [2, 0, 0, 0, 0, 0, 0, 0, 0, 0],\n",
              "       [1, 0, 0, 0, 0, 1, 0, 0, 0, 0],\n",
              "       [2, 2, 0, 0, 0, 1, 0, 0, 0, 0],\n",
              "       [1, 2, 1, 0, 0, 1, 0, 0, 0, 0],\n",
              "       [2, 2, 1, 0, 0, 1, 0, 2, 0, 0],\n",
              "       [1, 2, 1, 0, 1, 1, 0, 2, 0, 0]])"
            ]
          },
          "metadata": {
            "tags": []
          },
          "execution_count": 163
        }
      ]
    },
    {
      "cell_type": "code",
      "metadata": {
        "id": "LJ1SJud_HjkS",
        "colab_type": "code",
        "colab": {}
      },
      "source": [
        "#loading results data into an array (next best move)\n",
        "result_data=np.array(dataset[:,[-1]])"
      ],
      "execution_count": 0,
      "outputs": []
    },
    {
      "cell_type": "code",
      "metadata": {
        "id": "qSolQ_WYHtd_",
        "colab_type": "code",
        "outputId": "34f84ace-7b0c-4779-cd4e-d5d8af56c3d3",
        "colab": {
          "base_uri": "https://localhost:8080/",
          "height": 34
        }
      },
      "source": [
        "result_data.shape"
      ],
      "execution_count": 165,
      "outputs": [
        {
          "output_type": "execute_result",
          "data": {
            "text/plain": [
              "(551, 1)"
            ]
          },
          "metadata": {
            "tags": []
          },
          "execution_count": 165
        }
      ]
    },
    {
      "cell_type": "code",
      "metadata": {
        "id": "KItLB3cAN92J",
        "colab_type": "code",
        "outputId": "a368dc17-d0a7-428c-ac28-b5eea946f4b1",
        "colab": {
          "base_uri": "https://localhost:8080/",
          "height": 272
        }
      },
      "source": [
        "#loading results data into an array \n",
        "result_data=np.array(dataset[:,[-1]]).reshape(result_data.shape[0])\n",
        "print(result_data)"
      ],
      "execution_count": 166,
      "outputs": [
        {
          "output_type": "stream",
          "text": [
            "[4 0 1 6 3 7 5 4 0 1 3 6 2 7 4 0 1 6 3 7 5 4 0 1 3 6 7 2 4 0 3 1 2 6 5 4 0\n",
            " 1 6 3 7 5 4 0 1 6 3 7 5 4 0 1 3 6 7 2 4 0 1 3 6 7 2 4 0 1 3 6 7 2 4 0 1 6\n",
            " 3 7 5 4 0 1 3 6 7 2 4 0 1 3 6 7 2 4 0 3 2 1 7 5 4 0 1 3 6 7 2 4 0 1 6 3 7\n",
            " 5 4 0 3 1 2 6 5 4 0 1 6 3 7 5 4 0 1 6 3 7 5 4 0 1 6 3 7 5 4 0 1 6 3 7 5 4\n",
            " 0 1 6 3 7 5 5 4 1 0 8 6 2 4 0 1 3 6 7 2 4 0 1 6 3 7 5 4 0 1 6 3 7 5 4 0 1\n",
            " 6 3 7 5 4 0 1 6 3 7 5 4 0 1 6 3 7 5 3 4 6 0 8 1 2 7 4 0 1 6 3 7 5 7 4 8 3\n",
            " 5 6 0 2 4 0 1 3 6 7 2 4 0 1 6 3 7 5 4 0 1 3 6 7 2 4 0 1 6 3 7 5 4 0 1 6 3\n",
            " 7 5 4 0 1 6 3 7 5 4 0 1 6 3 7 5 4 0 1 6 3 7 5 4 0 1 3 6 7 2 3 4 8 1 2 7 4\n",
            " 0 1 6 3 7 5 4 0 1 3 6 7 2 4 0 1 6 3 7 5 4 0 3 2 1 7 5 4 0 1 3 6 7 2 6 0 7\n",
            " 4 8 4 0 1 3 6 7 2 4 0 1 6 3 7 5 4 0 1 6 3 7 5 4 0 1 6 3 7 5 4 0 1 3 6 7 2\n",
            " 4 0 1 6 3 7 5 4 0 1 6 3 7 5 4 0 1 6 3 7 5 4 0 1 6 3 7 5 4 0 1 6 3 7 5 4 0\n",
            " 1 6 3 7 5 4 0 1 6 3 7 5 4 0 1 6 3 7 5 4 0 1 6 3 7 5 4 0 1 6 3 7 5 4 0 1 3\n",
            " 6 7 2 4 0 1 6 3 7 5 4 0 1 3 6 7 2 4 0 1 6 3 7 5 4 0 1 6 3 7 5 4 0 3 2 1 7\n",
            " 5 4 0 1 6 3 7 5 7 0 6 4 8 4 0 1 6 3 7 5 4 0 1 3 6 2 7 4 0 1 6 3 7 5 4 0 1\n",
            " 6 3 7 5 4 0 1 6 3 7 5 4 0 1 3 6 7 2 4 0 1 3 6 7 2 8 0 7 6 3 2 1 4]\n"
          ],
          "name": "stdout"
        }
      ]
    },
    {
      "cell_type": "code",
      "metadata": {
        "id": "6EBBfqhoyT-N",
        "colab_type": "code",
        "outputId": "67ad824b-a741-4d71-d417-f3c1f8c3957b",
        "colab": {
          "base_uri": "https://localhost:8080/",
          "height": 34
        }
      },
      "source": [
        "result_data.shape"
      ],
      "execution_count": 167,
      "outputs": [
        {
          "output_type": "execute_result",
          "data": {
            "text/plain": [
              "(551,)"
            ]
          },
          "metadata": {
            "tags": []
          },
          "execution_count": 167
        }
      ]
    },
    {
      "cell_type": "code",
      "metadata": {
        "id": "oT-f1hBMHx_V",
        "colab_type": "code",
        "colab": {}
      },
      "source": [
        "#splitting data into the training and testing sets\n",
        "from sklearn.model_selection import train_test_split\n",
        "x_train,x_test, y_train, y_test=train_test_split(input_data,result_data,test_size=0.2)"
      ],
      "execution_count": 0,
      "outputs": []
    },
    {
      "cell_type": "code",
      "metadata": {
        "id": "1oNlwCkaH5UO",
        "colab_type": "code",
        "colab": {}
      },
      "source": [
        "from sklearn import metrics\n",
        "modelDT=DecisionTreeClassifier(criterion=\"entropy\", max_depth=10)\n",
        "modelDT.fit(x_train,y_train)\n",
        "y_pred=modelDT.predict(x_test)\n",
        "score=metrics.accuracy_score(y_test,y_pred)"
      ],
      "execution_count": 0,
      "outputs": []
    },
    {
      "cell_type": "code",
      "metadata": {
        "id": "UiTEx9JgH9Uu",
        "colab_type": "code",
        "outputId": "7f6b8810-fa32-49d6-ddf6-8b8fe3c1248a",
        "colab": {
          "base_uri": "https://localhost:8080/",
          "height": 34
        }
      },
      "source": [
        "score"
      ],
      "execution_count": 170,
      "outputs": [
        {
          "output_type": "execute_result",
          "data": {
            "text/plain": [
              "0.8738738738738738"
            ]
          },
          "metadata": {
            "tags": []
          },
          "execution_count": 170
        }
      ]
    },
    {
      "cell_type": "code",
      "metadata": {
        "id": "KHHLPofkKnqF",
        "colab_type": "code",
        "colab": {}
      },
      "source": [
        "from sklearn.svm import SVC\n"
      ],
      "execution_count": 0,
      "outputs": []
    },
    {
      "cell_type": "code",
      "metadata": {
        "id": "7hwrzM53LDDE",
        "colab_type": "code",
        "colab": {}
      },
      "source": [
        "  modelSV2=SVC(kernel='poly', degree=2)\n",
        "  modelSV2.fit(x_train,y_train)\n",
        "  y_pred=modelSV2.predict(x_test)\n",
        "  score=metrics.accuracy_score(y_test,y_pred)"
      ],
      "execution_count": 0,
      "outputs": []
    },
    {
      "cell_type": "code",
      "metadata": {
        "id": "xDigRebHO-3B",
        "colab_type": "code",
        "outputId": "9a4fd399-1057-4e59-99f8-3c64fb956d83",
        "colab": {
          "base_uri": "https://localhost:8080/",
          "height": 34
        }
      },
      "source": [
        "score"
      ],
      "execution_count": 172,
      "outputs": [
        {
          "output_type": "execute_result",
          "data": {
            "text/plain": [
              "0.8648648648648649"
            ]
          },
          "metadata": {
            "tags": []
          },
          "execution_count": 172
        }
      ]
    },
    {
      "cell_type": "code",
      "metadata": {
        "id": "T01a5LdOuMkZ",
        "colab_type": "code",
        "colab": {}
      },
      "source": [
        "\n",
        "# save the model \n",
        "pickle.dump(modelDT, open(filename, 'wb'))"
      ],
      "execution_count": 0,
      "outputs": []
    },
    {
      "cell_type": "code",
      "metadata": {
        "id": "_ppCk0qTurD2",
        "colab_type": "code",
        "outputId": "c11e9b07-b61f-42cb-ea9c-4b0b13843017",
        "colab": {
          "base_uri": "https://localhost:8080/",
          "height": 34
        }
      },
      "source": [
        "# load the model \n",
        "loaded_model = pickle.load(open(filename, 'rb'))\n",
        "result = loaded_model.score(x_test,y_test)\n",
        "print(result)"
      ],
      "execution_count": 174,
      "outputs": [
        {
          "output_type": "stream",
          "text": [
            "0.8738738738738738\n"
          ],
          "name": "stdout"
        }
      ]
    },
    {
      "cell_type": "markdown",
      "metadata": {
        "id": "KlpIeSBrBbWc",
        "colab_type": "text"
      },
      "source": [
        ""
      ]
    },
    {
      "cell_type": "code",
      "metadata": {
        "id": "QCOAASnFfwbF",
        "colab_type": "code",
        "outputId": "a1d23d5d-c6f9-42bc-f432-78688b5862a2",
        "colab": {
          "base_uri": "https://localhost:8080/",
          "height": 51
        }
      },
      "source": [
        "if __name__ == \"__main__\":\n",
        "    \"\"\" Play a single game to the end using UCT for both players.\n",
        "\n",
        "    \"\"\"\n",
        "    #------OC--100420--iterating over a number of games variable and collecting data for each game---\n",
        "    n_games=500\n",
        "    n_player1wins=0\n",
        "    n_player2wins=0\n",
        "    n_draws=0\n",
        "    counter=0\n",
        "    n_games_random_classifier=0\n",
        "    n_games_learned_classifier=0\n",
        "    first_data_collection=False\n",
        "    with open('data_file.csv',mode='w') as data_file:\n",
        "       with open('data_filegames.csv',mode='w') as data_file2: \n",
        "         for gameNum in range(n_games):\n",
        "           #print('NEW GAME ' + str(gameNum))   \n",
        "           counter=counter+1\n",
        "           if counter%10 ==0 or first_data_collection:\n",
        "              learned_classifier=False\n",
        "              n_games_random_classifier=n_games_random_classifier+1\n",
        "           else:\n",
        "              learned_classifier=True\n",
        "              n_games_learned_classifier=n_games_learned_classifier+1\n",
        "           a_game=UCTPlayGame(gameNum,data_file,data_file2, learned_classifier) \n",
        "           if a_game==1:\n",
        "             n_player1wins=n_player1wins+1\n",
        "           if a_game==2:\n",
        "             n_player2wins=n_player2wins+1  \n",
        "           if a_game==0:  \n",
        "             n_draws=n_draws+1\n",
        "    print(\"Total games played \" + str(n_games) + \". Number of draws:\" +str(n_draws) + \". Number of wins by player 1: \" + str(n_player1wins) + \". Number of wins by player 2: \" + str(n_player2wins) )   \n",
        "    print(\"Games played with learned classifier was \" + str(n_games_learned_classifier) + \". Games played with random classifier was \" + str(n_games_random_classifier))           \n",
        "    #---to do : train model and save the model---------------\n",
        "    #---to do : play the game accessing the model and getting he predicted move from the model--"
      ],
      "execution_count": 154,
      "outputs": [
        {
          "output_type": "stream",
          "text": [
            "Total games played 500. Number of draws:421. Number of wins by player 1: 75. Number of wins by player 2: 4\n",
            "Games played with learned classifier was 450. Games played with random classifier was 50\n"
          ],
          "name": "stdout"
        }
      ]
    },
    {
      "cell_type": "markdown",
      "metadata": {
        "id": "OJ_134Dq-goW",
        "colab_type": "text"
      },
      "source": [
        "https://stackoverflow.com/questions/17530542/how-to-add-pandas-data-to-an-existing-csv-file"
      ]
    },
    {
      "cell_type": "markdown",
      "metadata": {
        "id": "YXnCB-viBdfB",
        "colab_type": "text"
      },
      "source": [
        "https://pythonhealthcare.org/2018/04/11/40-removing-duplicate-data-in-numpy-and-pandas/"
      ]
    }
  ]
}