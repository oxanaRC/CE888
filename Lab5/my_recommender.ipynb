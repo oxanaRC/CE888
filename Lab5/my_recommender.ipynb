{
  "nbformat": 4,
  "nbformat_minor": 0,
  "metadata": {
    "colab": {
      "name": "Untitled9.ipynb",
      "provenance": [],
      "toc_visible": true,
      "authorship_tag": "ABX9TyMCkmjm5K9lkGsD6IehmnXW",
      "include_colab_link": true
    },
    "kernelspec": {
      "name": "python3",
      "display_name": "Python 3"
    }
  },
  "cells": [
    {
      "cell_type": "markdown",
      "metadata": {
        "id": "view-in-github",
        "colab_type": "text"
      },
      "source": [
        "<a href=\"https://colab.research.google.com/github/oxanaRC/CE888/blob/master/Lab5/my_recommender.ipynb\" target=\"_parent\"><img src=\"https://colab.research.google.com/assets/colab-badge.svg\" alt=\"Open In Colab\"/></a>"
      ]
    },
    {
      "cell_type": "code",
      "metadata": {
        "id": "5_aOtrD51wuw",
        "colab_type": "code",
        "colab": {}
      },
      "source": [
        "#lab5\n",
        "\n",
        "import pandas as pd\n",
        "import numpy as np\n",
        "# sorry, could not finish due to technical issues\n"
      ],
      "execution_count": 0,
      "outputs": []
    }
  ]
}